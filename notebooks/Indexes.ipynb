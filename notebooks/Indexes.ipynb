{
 "cells": [
  {
   "cell_type": "code",
   "execution_count": 1,
   "metadata": {},
   "outputs": [],
   "source": [
    "import pandas as pd\n",
    "import numpy as np\n",
    "from pathlib import Path\n",
    "import re\n",
    "import os"
   ]
  },
  {
   "cell_type": "code",
   "execution_count": 2,
   "metadata": {},
   "outputs": [],
   "source": [
    "# Route\n",
    "projRoot = Path.cwd().parents[0]\n",
    "path_stage3 = projRoot.joinpath('data/stage3')\n",
    "filepath = sorted(path_stage3.rglob('*.csv'))"
   ]
  },
  {
   "cell_type": "code",
   "execution_count": 3,
   "metadata": {},
   "outputs": [],
   "source": [
    "df = pd.read_csv(filepath[0])"
   ]
  },
  {
   "cell_type": "code",
   "execution_count": 4,
   "metadata": {},
   "outputs": [],
   "source": [
    "def yearly_summary(data, variable):\n",
    "    summary = data.groupby('學年度').agg({f'{variable}': ['mean', 'std', 'count']})\n",
    "\n",
    "    return print(summary)"
   ]
  },
  {
   "attachments": {},
   "cell_type": "markdown",
   "metadata": {},
   "source": [
    "### 1. 學生規模和在學穩定度 (2-2-1) 日間學制學士班及專科正式學籍在學學生人數\n",
    "資料來源：學1-2"
   ]
  },
  {
   "cell_type": "code",
   "execution_count": null,
   "metadata": {},
   "outputs": [],
   "source": [
    "yearly_summary(df, '在學學生數小計')"
   ]
  },
  {
   "attachments": {},
   "cell_type": "markdown",
   "metadata": {},
   "source": [
    "### 2. 學生規模和在學穩定度 (2-2-2) 日間學制學士班及專科新生註冊率(不含境外生) \n",
    "$$ 計算公式：\\frac{當學年度總量內新生招生核定名額之實際註冊人數(C)}{(當學年度總量內核定新生招生名額(A) - 當學年度新生保留入學資格人數(B))\n",
    "} $$\n",
    "資料來源：學12-2"
   ]
  },
  {
   "cell_type": "code",
   "execution_count": null,
   "metadata": {},
   "outputs": [],
   "source": [
    "df['日間學制學士班及專科新生註冊率(不含境外生)'] = df['當學年度總量內新生招生核定名額之實際註冊人數(C)'] / (df['當學年度總量內核定新生招生名額(A)'] - df['當學年度新生保留入學資格人數(B)'])\n",
    "yearly_summary(df, '日間學制學士班及專科新生註冊率(不含境外生)')"
   ]
  },
  {
   "attachments": {},
   "cell_type": "markdown",
   "metadata": {},
   "source": [
    "### 3. 學生規模和在學穩定度 (2-2-3) 日間學制學士班及專科新生註冊率(含境外生) \n",
    "$$ 計算公式： \\frac{(當學年度總量內新生招生核定名額之實際註冊人數(C) + 當學年度各學系境外(新生)學生實際註冊人數 (E))}{(當學年度總量內核定新生招生名額(A) - 當學年度新生保留入學資格人數(B) + 當學年度各學系境外(新生)學生實際註冊人數 (E))} $$\n",
    "\n",
    "資料來源：學12-2"
   ]
  },
  {
   "cell_type": "code",
   "execution_count": null,
   "metadata": {},
   "outputs": [],
   "source": [
    "df['日間學制學士班及專科新生註冊率(含境外生)'] = (df['當學年度總量內新生招生核定名額之實際註冊人數(C)'] + df['當學年度各學系境外(新生)學生實際註冊人數 (E)']) / (df['當學年度總量內核定新生招生名額(A)'] - df['當學年度新生保留入學資格人數(B)'] + df['當學年度各學系境外(新生)學生實際註冊人數 (E)'])\n",
    "yearly_summary(df, '日間學制學士班及專科新生註冊率(含境外生)')"
   ]
  },
  {
   "attachments": {},
   "cell_type": "markdown",
   "metadata": {},
   "source": [
    "### 4. 學生規模和在學穩定度 (2-2-4) 日間學制學士班及專科境外新生實際註冊人數占總註冊人數比率 \n",
    "$$ 計算公式：\\frac{當學年度各學系境外(新生)學生實際註冊人數 (E)}{(當學年度各學系境外(新生)學生實際註冊人數 (E) + 當學年度總量內新生招生核定名額之實際註冊人數(C))}$$\n",
    "\n",
    "資料來源：學12-2"
   ]
  },
  {
   "cell_type": "code",
   "execution_count": null,
   "metadata": {},
   "outputs": [],
   "source": [
    "df['日間學制學士班及專科新實際註冊人數占總註冊人數比率'] = df['當學年度各學系境外(新生)學生實際註冊人數 (E)'] / (df['當學年度各學系境外(新生)學生實際註冊人數 (E)'] + df['當學年度總量內新生招生核定名額之實際註冊人數(C)'])\n",
    "yearly_summary(df, '日間學制學士班及專科新實際註冊人數占總註冊人數比率')"
   ]
  },
  {
   "attachments": {},
   "cell_type": "markdown",
   "metadata": {},
   "source": [
    "### 5. 學生規模和在學穩定度 (2-2-5) 日間學制學士班及專科休學人數比率(於學年底處於休學狀態)\n",
    "$$ 計算公式：\\frac{於學年底處於休學狀態之人數-總計_2}{在學學生數小計}$$\n",
    "\n",
    "資料來源：學1-2、學13-2"
   ]
  },
  {
   "cell_type": "code",
   "execution_count": null,
   "metadata": {},
   "outputs": [],
   "source": [
    "df['日間學制學士班及專科休學人數比率(於學年底處於休學狀態)'] = df['於學年底處於休學狀態之人數-總計_2'] / df['在學學生數小計']\n",
    "yearly_summary(df, '日間學制學士班及專科休學人數比率(於學年底處於休學狀態)')"
   ]
  },
  {
   "attachments": {},
   "cell_type": "markdown",
   "metadata": {},
   "source": [
    "### 6. 學生規模和在學穩定度 (2-2-7) 日間學制學士班及專科退學人數比率\n",
    "$$ 計算公式：\\frac{(學期間退學人數-小計_1 + 學期間退學人數-小計_2)}{在學學生數小計}$$\n",
    "\n",
    "資料來源：學1-2、學14-2"
   ]
  },
  {
   "cell_type": "code",
   "execution_count": null,
   "metadata": {},
   "outputs": [],
   "source": [
    "df['日間學制學士班及專科退學人數比率'] = (df['學期間退學人數-小計_1'] + df['學期間退學人數-小計_2']) / df['在學學生數小計']\n",
    "yearly_summary(df, '日間學制學士班及專科退學人數比率')"
   ]
  },
  {
   "attachments": {},
   "cell_type": "markdown",
   "metadata": {},
   "source": [
    "### 7. 學生規模和在學穩定度 (2-2-8) 日間學制學士班及專科延修人數比率\n",
    "$$ 計算公式：\\frac{申請延長修業年限因素之學生人數-小計}{在學學生數小計}$$\n",
    "\n",
    "資料來源：學1-2、學14-2"
   ]
  },
  {
   "cell_type": "code",
   "execution_count": null,
   "metadata": {},
   "outputs": [],
   "source": [
    "df['日間學制學士班及專科延修人數比率'] = df['申請延長修業年限因素之學生人數-小計'] / df['在學學生數小計']\n",
    "yearly_summary(df, '日間學制學士班及專科延修人數比率')"
   ]
  },
  {
   "attachments": {},
   "cell_type": "markdown",
   "metadata": {},
   "source": [
    "### 8. 學生規模和在學穩定度 (2-2-9) 日間學制學士班及專科就學穩定率\n",
    "$$ 計算公式：\\frac{當學年度2年級在學學生數(B)}{前一學年度錄取1年級在學學生人數(A)}$$\n",
    "\n",
    "資料來源：學16"
   ]
  },
  {
   "cell_type": "code",
   "execution_count": null,
   "metadata": {},
   "outputs": [],
   "source": [
    "df['日間學制學士班及專科就學穩定率'] = df['當學年度2年級在學學生數(B)'] / df['前一學年度錄取1年級在學學生人數(A)']\n",
    "yearly_summary(df, '日間學制學士班及專科就學穩定率')"
   ]
  },
  {
   "attachments": {},
   "cell_type": "markdown",
   "metadata": {},
   "source": [
    "### 9. 學生學習資源投入 (2-3-1) 平均每位專任輔導人員服務正式學籍在學學生人數\n",
    "$$ 計算公式：\\frac{在學學生數小計}{上下學期平均輔導人員數}$$\n",
    "\n",
    "資料來源：教8、學1-2"
   ]
  },
  {
   "cell_type": "code",
   "execution_count": null,
   "metadata": {},
   "outputs": [],
   "source": [
    "df[\"上下學期平均輔導人員數\"] = (df['輔導人員數-專任_1'].fillna(df['輔導人員數-專任_2']) + df['輔導人員數-專任_2'].fillna(df['輔導人員數-專任_1'])) / 2\n",
    "df['平均每位專任輔導人員服務正式學籍在學學生人數'] = df['在學學生數小計']/ df[\"上下學期平均輔導人員數\"]\n",
    "df['平均每位專任輔導人員服務正式學籍在學學生人數'] = df['平均每位專任輔導人員服務正式學籍在學學生人數'].replace(np.inf, np.nan) # 0個專任輔道員的學校其數字會是無限大，取代為np.nan\n",
    "yearly_summary(df, '平均每位專任輔導人員服務正式學籍在學學生人數')"
   ]
  },
  {
   "attachments": {},
   "cell_type": "markdown",
   "metadata": {},
   "source": [
    "### 10. 師資結構和教師增能 (2-4-1) 專任教師總數\n",
    "資料來源：教1-2"
   ]
  },
  {
   "cell_type": "code",
   "execution_count": null,
   "metadata": {},
   "outputs": [],
   "source": [
    "yearly_summary(df, '專任教師數-教師總數總計')"
   ]
  },
  {
   "attachments": {},
   "cell_type": "markdown",
   "metadata": {},
   "source": [
    "### 11. 師資結構和教師增能 (2-4-2) 專任教師之助理教授以上人數比率\n",
    "$$ 計算公式：\\frac{專任助理教授以上人數-總計}{專任教師數-教師總數總計}$$\n",
    "\n",
    "資料來源：教1-2"
   ]
  },
  {
   "cell_type": "code",
   "execution_count": null,
   "metadata": {},
   "outputs": [],
   "source": [
    "df['專任教師之助理教授以上人數比率'] = df['專任助理教授以上人數-總計'] / df['專任教師數-教師總數總計']\n",
    "yearly_summary(df, '專任教師之助理教授以上人數比率')"
   ]
  },
  {
   "cell_type": "code",
   "execution_count": null,
   "metadata": {},
   "outputs": [],
   "source": []
  }
 ],
 "metadata": {
  "kernelspec": {
   "display_name": "HEDB-i6O8spUG",
   "language": "python",
   "name": "python3"
  },
  "language_info": {
   "codemirror_mode": {
    "name": "ipython",
    "version": 3
   },
   "file_extension": ".py",
   "mimetype": "text/x-python",
   "name": "python",
   "nbconvert_exporter": "python",
   "pygments_lexer": "ipython3",
   "version": "3.11.2"
  },
  "orig_nbformat": 4
 },
 "nbformat": 4,
 "nbformat_minor": 2
}
