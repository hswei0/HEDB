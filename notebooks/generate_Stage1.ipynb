{
 "cells": [
  {
   "cell_type": "code",
   "execution_count": null,
   "metadata": {},
   "outputs": [],
   "source": [
    "from pathlib import Path\n",
    "import pandas as pd\n",
    "import sys\n",
    "import os\n",
    "import re\n",
    "from ydata_profiling import ProfileReport\n",
    "import ipywidgets as widgets\n",
    "projRoot = Path.cwd().parents[0]\n",
    "root_stage1 = projRoot.joinpath('data/stage1')\n",
    "root_stage1.mkdir(exist_ok=True)\n",
    "root_rawdata = projRoot.joinpath('data/raw')"
   ]
  },
  {
   "attachments": {},
   "cell_type": "markdown",
   "metadata": {},
   "source": [
    "### 資料清理工作\n",
    "\n",
    "先使用`notebooks/view_stage0.ipynb`檢查raw data\n",
    "\n",
    "執行清理語法，執行完畢後，再用下方功能檢視結果。 "
   ]
  },
  {
   "attachments": {},
   "cell_type": "markdown",
   "metadata": {},
   "source": [
    "#### 統一執行"
   ]
  },
  {
   "cell_type": "code",
   "execution_count": null,
   "metadata": {},
   "outputs": [],
   "source": [
    "def import_data(dt_path):\n",
    "    df = pd.read_csv(dt_path, \n",
    "                     dtype={'學校統計處代碼': 'string', '系所代碼': 'string'},\n",
    "                     na_values=['...'])\n",
    "    return df\n",
    "\n",
    "def export_data(dataframe, stage1_path):\n",
    "    dataframe.to_csv(stage1_path, index=False, encoding='utf8')\n",
    "    print(f'{stage1_path} 輸出成功～')\n",
    "\n",
    "def RoctoCE(dataframe):\n",
    "    # 選出有年度的欄位\n",
    "    flt = dataframe.columns[dataframe.columns.str.contains('年度$')]\n",
    "    dataframe[flt] = dataframe[flt].apply(lambda yr: yr + 1911) \n",
    "    return(dataframe)\n",
    "\n",
    "# def cleanDot(dataframe, cols):\n",
    "#     dataframe[cols] = dataframe[cols].apply()"
   ]
  },
  {
   "attachments": {},
   "cell_type": "markdown",
   "metadata": {},
   "source": [
    "#### Stage1 資料輸出"
   ]
  },
  {
   "cell_type": "code",
   "execution_count": null,
   "metadata": {},
   "outputs": [],
   "source": [
    "def funct1(dataset_names):\n",
    "    for fnm in dataset_names:\n",
    "        tbnm = fnm\n",
    "        pth = root_rawdata.joinpath(tbnm)\n",
    "        df = import_data(pth)\n",
    "        df = df.pipe(RoctoCE)\n",
    "        outpath = root_stage1.joinpath(tbnm)\n",
    "        export_data(df, outpath)\n",
    "\n",
    "# NOTE: 應該用排除的方式來寫比較有效率      \n",
    "dfs = [re.search(r'.+raw/(.+)', str(f)).group(1) for f in root_rawdata.rglob('*.csv')]\n",
    "\n",
    "funct1(dfs)"
   ]
  },
  {
   "cell_type": "markdown",
   "metadata": {},
   "source": [
    "### 資料表檢索"
   ]
  },
  {
   "cell_type": "code",
   "execution_count": null,
   "metadata": {},
   "outputs": [],
   "source": [
    "filepaths = sorted(root_stage1.rglob('*.csv'))"
   ]
  },
  {
   "cell_type": "code",
   "execution_count": null,
   "metadata": {},
   "outputs": [],
   "source": [
    "options_cate = list(set(fp.name[0] for fp in filepaths)) # 保留單一值\n",
    "\n",
    "cate_togl =  widgets.ToggleButtons(\n",
    "    options=options_cate,\n",
    "    description='選取類別:',\n",
    "    disabled=False\n",
    ")\n",
    "cate_togl"
   ]
  },
  {
   "cell_type": "code",
   "execution_count": null,
   "metadata": {},
   "outputs": [],
   "source": [
    "options_lt = [fp.name for fp in sorted(root_stage1.rglob(f'{cate_togl.value}*'))]\n",
    "\n",
    "dropdwn_dt = widgets.Dropdown(\n",
    "    options=options_lt,\n",
    "    # value='',\n",
    "    description='請點選資料表:'\n",
    "    # disabled=False,\n",
    ")\n",
    "dropdwn_dt"
   ]
  },
  {
   "cell_type": "code",
   "execution_count": null,
   "metadata": {},
   "outputs": [],
   "source": [
    "df = pd.read_csv(root_stage1.joinpath(dropdwn_dt.value), \n",
    "                 dtype={'學校統計處代碼': 'string', '系所代碼': 'string'}\n",
    "                 )\n",
    "profile = ProfileReport(df, title=\"Pandas Profiling Report\", minimal=True)\n",
    "profile.to_notebook_iframe()"
   ]
  },
  {
   "cell_type": "code",
   "execution_count": null,
   "metadata": {},
   "outputs": [],
   "source": [
    "import pyperclip\n",
    "pyperclip.copy(f'\"{dropdwn_dt.value}\"')"
   ]
  },
  {
   "cell_type": "code",
   "execution_count": null,
   "metadata": {},
   "outputs": [],
   "source": []
  }
 ],
 "metadata": {
  "kernelspec": {
   "display_name": "HEDB-cWz3J9KE",
   "language": "python",
   "name": "python3"
  },
  "language_info": {
   "codemirror_mode": {
    "name": "ipython",
    "version": 3
   },
   "file_extension": ".py",
   "mimetype": "text/x-python",
   "name": "python",
   "nbconvert_exporter": "python",
   "pygments_lexer": "ipython3",
   "version": "3.11.3"
  },
  "orig_nbformat": 4
 },
 "nbformat": 4,
 "nbformat_minor": 2
}
