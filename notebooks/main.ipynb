{
 "cells": [
  {
   "cell_type": "markdown",
   "metadata": {},
   "source": [
    "# 資料處理"
   ]
  },
  {
   "cell_type": "code",
   "execution_count": 5,
   "metadata": {},
   "outputs": [],
   "source": [
    "from pathlib import Path\n",
    "import pandas as pd\n",
    "import sys\n",
    "projRoot = Path.cwd().parents[0]\n",
    "# sys.path.append(str(projRoot.joinpath('src')))"
   ]
  },
  {
   "cell_type": "markdown",
   "metadata": {},
   "source": [
    "### 下載原始資料"
   ]
  },
  {
   "cell_type": "code",
   "execution_count": null,
   "metadata": {},
   "outputs": [],
   "source": [
    "%run {projRoot.joinpath('src/data/download_data.py')}"
   ]
  },
  {
   "cell_type": "markdown",
   "metadata": {},
   "source": [
    "### 製作編碼簿"
   ]
  },
  {
   "cell_type": "code",
   "execution_count": 12,
   "metadata": {},
   "outputs": [
    {
     "name": "stderr",
     "output_type": "stream",
     "text": [
      "/Users/hsuwei/Desktop/NERDA/HEDB/src/data/gen_codebook.py:20: DtypeWarning: Columns (5) have mixed types. Specify dtype option on import or set low_memory=False.\n",
      "  dt = pd.read_csv(flp, na_values=['...'])\n"
     ]
    },
    {
     "name": "stdout",
     "output_type": "stream",
     "text": [
      "資料表無「學年度」欄位，以「年度」替代：/n 研1.學校承接各單位資助「各類計畫經費」及其每師平均承接金額-以「校」統計\n",
      "資料表無「學年度」欄位，以「年度」替代：/n 研2.學校承接各單位資助「產學合作」計畫經費及其每師平均承接金額-以「校」統計\n",
      "資料表無「學年度」欄位，以「年度」替代：/n 研3.學校申請專利、新品種及授權件數-以「校」統計\n",
      "資料表無「學年度」欄位，以「年度」替代：/n 研4.學校各種智慧財產權衍生運用總金額-以「校」統計\n",
      "資料表無「學年度」欄位，以「年度」替代：/n 研6.學校衍生企業-以「校」統計\n",
      "資料表無「學年度」欄位，以「年度」替代：/n 研7.學校合作企業新事業部門-以「校」統計\n",
      "資料表無「學年度」欄位，以「年度」替代：/n 財1-1.國立學校可用資金、本年度現金增減情形-以「校」統計\n",
      "資料表無「學年度」欄位，以「年度」替代：/n 財1-2.國立學校學雜費收入占總收入比率-以「校」統計\n",
      "資料表無「學年度」欄位，以「年度」替代：/n 財1-3.國立學校負債占總資產比率-以「校」統計\n",
      "資料表無「學年度」欄位，以「年度」替代：/n 財1-4.國立學校財務報表公告網址\n",
      "財1-4.國立學校財務報表公告網址 發生錯誤\n",
      "An exception occurred: '年度'\n",
      "資料表無「學年度」欄位，以「年度」替代：/n 財1-5.國立學校財務相關比率-以「校」統計\n",
      "資料表無「學年度」欄位，以「查核年度」替代：/n 財1-6.查核國立各校財務狀況結果及追蹤辦理情形-以「校」統計\n",
      "資料表無「學年度」欄位，以「年度」替代：/n 財2-4.私立學校財務報表公告網址\n",
      "財2-4.私立學校財務報表公告網址 發生錯誤\n",
      "An exception occurred: '年度'\n",
      "資料表無「學年度」欄位，以「查核年度」替代：/n 財2-9.查核私立各校財務狀況結果及追蹤辦理情形-以「校」統計\n"
     ]
    }
   ],
   "source": [
    "%run {projRoot.joinpath('src/data/gen_codebook.py')}"
   ]
  },
  {
   "cell_type": "markdown",
   "metadata": {},
   "source": [
    "### 輸出彙整編碼簿"
   ]
  },
  {
   "cell_type": "code",
   "execution_count": 13,
   "metadata": {},
   "outputs": [],
   "source": [
    "root_manraw = projRoot.joinpath('man/raw')\n",
    "filepaths = sorted(root_manraw.rglob('*.csv'))\n",
    "df = pd.concat((pd.read_csv(f) for f in filepaths), ignore_index=True)\n",
    "df.to_csv(str(projRoot) + '/man/大表.csv', index=False)"
   ]
  },
  {
   "cell_type": "code",
   "execution_count": null,
   "metadata": {},
   "outputs": [],
   "source": []
  }
 ],
 "metadata": {
  "kernelspec": {
   "display_name": "HEDB-cWz3J9KE",
   "language": "python",
   "name": "python3"
  },
  "language_info": {
   "codemirror_mode": {
    "name": "ipython",
    "version": 3
   },
   "file_extension": ".py",
   "mimetype": "text/x-python",
   "name": "python",
   "nbconvert_exporter": "python",
   "pygments_lexer": "ipython3",
   "version": "3.11.3"
  },
  "orig_nbformat": 4
 },
 "nbformat": 4,
 "nbformat_minor": 2
}
