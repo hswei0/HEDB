{
 "cells": [
  {
   "cell_type": "code",
   "execution_count": 1,
   "metadata": {},
   "outputs": [],
   "source": [
    "import pandas as pd\n",
    "import numpy as np\n",
    "from pathlib import Path\n",
    "import re\n",
    "import os"
   ]
  },
  {
   "cell_type": "code",
   "execution_count": 33,
   "metadata": {},
   "outputs": [],
   "source": [
    "# Route\n",
    "projRoot = Path.cwd().parents[0]\n",
    "path_stage3 = projRoot.joinpath('data/stage3')\n",
    "filepath = sorted(path_stage3.rglob('*.csv'))"
   ]
  },
  {
   "cell_type": "code",
   "execution_count": 34,
   "metadata": {},
   "outputs": [],
   "source": [
    "df = pd.read_csv(filepath[0])"
   ]
  },
  {
   "cell_type": "code",
   "execution_count": 35,
   "metadata": {},
   "outputs": [],
   "source": [
    "def yearly_summary(data, variable):\n",
    "    summary = data.groupby('學年度').agg({f'{variable}': ['mean', 'std', 'count']})\n",
    "\n",
    "    return print(summary)"
   ]
  },
  {
   "attachments": {},
   "cell_type": "markdown",
   "metadata": {},
   "source": [
    "### 1. 校務治理 (2-2-1) 日間學制學士班及專科正式學籍在學學生人數\n",
    "資料來源：學1-2"
   ]
  },
  {
   "cell_type": "code",
   "execution_count": 36,
   "metadata": {},
   "outputs": [
    {
     "name": "stdout",
     "output_type": "stream",
     "text": [
      "          在學學生數小計                   \n",
      "             mean          std count\n",
      "學年度                                 \n",
      "2016          NaN          NaN     0\n",
      "2017  5774.251572  3968.083971   159\n",
      "2018  5760.761290  4071.232500   155\n",
      "2019  5611.889610  4073.061094   154\n",
      "2020  5481.110390  4130.735505   154\n",
      "2021  5521.125828  4208.010479   151\n",
      "2022  5328.900000  4144.198859   150\n"
     ]
    }
   ],
   "source": [
    "yearly_summary(df, '在學學生數小計')"
   ]
  },
  {
   "attachments": {},
   "cell_type": "markdown",
   "metadata": {},
   "source": [
    "### 2. 校務治理 (2-2-2) 日間學制學士班及專科新生註冊率(不含境外生) \n",
    "$$ 計算公式：\\frac{當學年度總量內新生招生核定名額之實際註冊人數(C)}{(當學年度總量內核定新生招生名額(A) - 當學年度新生保留入學資格人數(B))\n",
    "} $$\n",
    "資料來源：學12-2"
   ]
  },
  {
   "cell_type": "code",
   "execution_count": 37,
   "metadata": {},
   "outputs": [
    {
     "name": "stdout",
     "output_type": "stream",
     "text": [
      "     日間學制學士班及專科新生註冊率(不含境外生)                \n",
      "                       mean       std count\n",
      "學年度                                        \n",
      "2016                    NaN       NaN     0\n",
      "2017               0.813334  0.199749   159\n",
      "2018               0.834567  0.175349   155\n",
      "2019               0.828331  0.184127   154\n",
      "2020               0.823932  0.208103   153\n",
      "2021               0.830285  0.207891   149\n",
      "2022               0.780758  0.214669   146\n"
     ]
    }
   ],
   "source": [
    "df['日間學制學士班及專科新生註冊率(不含境外生)'] = df['當學年度總量內新生招生核定名額之實際註冊人數(C)'] / (df['當學年度總量內核定新生招生名額(A)'] - df['當學年度新生保留入學資格人數(B)'])\n",
    "yearly_summary(df, '日間學制學士班及專科新生註冊率(不含境外生)')"
   ]
  },
  {
   "attachments": {},
   "cell_type": "markdown",
   "metadata": {},
   "source": [
    "### 3. 校務治理 (2-2-3) 日間學制學士班及專科新生註冊率(含境外生) \n",
    "$$ 計算公式： \\frac{(當學年度總量內新生招生核定名額之實際註冊人數(C) + 當學年度各學系境外(新生)學生實際註冊人數 (E))}{(當學年度總量內核定新生招生名額(A) - 當學年度新生保留入學資格人數(B) + 當學年度各學系境外(新生)學生實際註冊人數 (E))} $$\n",
    "\n",
    "資料來源：學12-2"
   ]
  },
  {
   "cell_type": "code",
   "execution_count": 38,
   "metadata": {},
   "outputs": [
    {
     "name": "stdout",
     "output_type": "stream",
     "text": [
      "     日間學制學士班及專科新生註冊率(含境外生)                \n",
      "                      mean       std count\n",
      "學年度                                       \n",
      "2016                   NaN       NaN     0\n",
      "2017                   NaN       NaN     0\n",
      "2018                   NaN       NaN     0\n",
      "2019                   NaN       NaN     0\n",
      "2020              0.830405  0.200418   153\n",
      "2021              0.838637  0.197044   149\n",
      "2022              0.792943  0.205845   146\n"
     ]
    }
   ],
   "source": [
    "df['日間學制學士班及專科新生註冊率(含境外生)'] = (df['當學年度總量內新生招生核定名額之實際註冊人數(C)'] + df['當學年度各學系境外(新生)學生實際註冊人數 (E)']) / (df['當學年度總量內核定新生招生名額(A)'] - df['當學年度新生保留入學資格人數(B)'] + df['當學年度各學系境外(新生)學生實際註冊人數 (E)'])\n",
    "yearly_summary(df, '日間學制學士班及專科新生註冊率(含境外生)')"
   ]
  },
  {
   "attachments": {},
   "cell_type": "markdown",
   "metadata": {},
   "source": [
    "### 4. 校務治理 (2-2-4) 日間學制學士班及專科境外新生實際註冊人數占總註冊人數比率 \n",
    "$$ 計算公式：\\frac{當學年度各學系境外(新生)學生實際註冊人數 (E)}{(當學年度各學系境外(新生)學生實際註冊人數 (E) + 當學年度總量內新生招生核定名額之實際註冊人數(C))}$$\n",
    "\n",
    "資料來源：學12-2"
   ]
  },
  {
   "cell_type": "code",
   "execution_count": 40,
   "metadata": {},
   "outputs": [
    {
     "name": "stdout",
     "output_type": "stream",
     "text": [
      "     日間學制學士班及專科新實際註冊人數占總註冊人數比率                \n",
      "                          mean       std count\n",
      "學年度                                           \n",
      "2016                       NaN       NaN     0\n",
      "2017                       NaN       NaN     0\n",
      "2018                       NaN       NaN     0\n",
      "2019                       NaN       NaN     0\n",
      "2020                  0.049884  0.062217   153\n",
      "2021                  0.058775  0.076315   149\n",
      "2022                  0.069834  0.083012   146\n"
     ]
    }
   ],
   "source": [
    "df['日間學制學士班及專科新實際註冊人數占總註冊人數比率'] = df['當學年度各學系境外(新生)學生實際註冊人數 (E)'] / (df['當學年度各學系境外(新生)學生實際註冊人數 (E)'] + df['當學年度總量內新生招生核定名額之實際註冊人數(C)'])\n",
    "yearly_summary(df, '日間學制學士班及專科新實際註冊人數占總註冊人數比率')"
   ]
  },
  {
   "attachments": {},
   "cell_type": "markdown",
   "metadata": {},
   "source": [
    "### 5. 校務治理 (2-2-5) 日間學制學士班及專科休學人數比率(於學年底處於休學狀態)\n",
    "$$ 計算公式：\\frac{於學年底處於休學狀態之人數-總計_2}{在學學生數小計}$$\n",
    "\n",
    "資料來源：學1-2、學13-2"
   ]
  },
  {
   "cell_type": "code",
   "execution_count": 42,
   "metadata": {},
   "outputs": [
    {
     "name": "stdout",
     "output_type": "stream",
     "text": [
      "     日間學制學士班及專科休學人數比率(於學年底處於休學狀態)                \n",
      "                             mean       std count\n",
      "學年度                                              \n",
      "2016                          NaN       NaN     0\n",
      "2017                     0.060323  0.045838   153\n",
      "2018                     0.056878  0.040097   154\n",
      "2019                     0.057675  0.034864   154\n",
      "2020                     0.056096  0.036315   151\n",
      "2021                     0.051763  0.037321   151\n",
      "2022                          NaN       NaN     0\n"
     ]
    }
   ],
   "source": [
    "df['日間學制學士班及專科休學人數比率(於學年底處於休學狀態)'] = df['於學年底處於休學狀態之人數-總計_2'] / df['在學學生數小計']\n",
    "yearly_summary(df, '日間學制學士班及專科休學人數比率(於學年底處於休學狀態)')"
   ]
  },
  {
   "attachments": {},
   "cell_type": "markdown",
   "metadata": {},
   "source": [
    "### 6. 校務治理 (2-2-7) 日間學制學士班及專科退學人數比率\n",
    "$$ 計算公式：\\frac{(學期間退學人數-小計_1 + 學期間退學人數-小計_2)}{在學學生數小計}$$\n",
    "\n",
    "資料來源：學1-2、學14-2"
   ]
  },
  {
   "cell_type": "code",
   "execution_count": 43,
   "metadata": {},
   "outputs": [
    {
     "name": "stdout",
     "output_type": "stream",
     "text": [
      "     日間學制學士班及專科退學人數比率                \n",
      "                 mean       std count\n",
      "學年度                                  \n",
      "2016              NaN       NaN     0\n",
      "2017         0.072984  0.056983   155\n",
      "2018         0.073610  0.054783   154\n",
      "2019         0.079796  0.059163   154\n",
      "2020         0.077289  0.054353   150\n",
      "2021         0.082628  0.079601   151\n",
      "2022              NaN       NaN     0\n"
     ]
    }
   ],
   "source": [
    "df['日間學制學士班及專科退學人數比率'] = (df['學期間退學人數-小計_1'] + df['學期間退學人數-小計_2']) / df['在學學生數小計']\n",
    "yearly_summary(df, '日間學制學士班及專科退學人數比率')"
   ]
  },
  {
   "attachments": {},
   "cell_type": "markdown",
   "metadata": {},
   "source": [
    "### 7. 校務治理 (2-2-8) 日間學制學士班及專科延修人數比率\n",
    "$$ 計算公式：\\frac{申請延長修業年限因素之學生人數-小計}{在學學生數小計}$$\n",
    "\n",
    "資料來源：學1-2、學14-2"
   ]
  },
  {
   "cell_type": "code",
   "execution_count": 45,
   "metadata": {},
   "outputs": [
    {
     "name": "stdout",
     "output_type": "stream",
     "text": [
      "     日間學制學士班及專科延修人數比率                \n",
      "                 mean       std count\n",
      "學年度                                  \n",
      "2016              NaN       NaN     0\n",
      "2017         0.043924  0.021990   158\n",
      "2018         0.045747  0.022362   152\n",
      "2019         0.047532  0.024370   153\n",
      "2020         0.049519  0.024849   152\n",
      "2021         0.049695  0.026853   151\n",
      "2022         0.053110  0.030471   149\n"
     ]
    }
   ],
   "source": [
    "df['日間學制學士班及專科延修人數比率'] = df['申請延長修業年限因素之學生人數-小計'] / df['在學學生數小計']\n",
    "yearly_summary(df, '日間學制學士班及專科延修人數比率')"
   ]
  },
  {
   "cell_type": "code",
   "execution_count": null,
   "metadata": {},
   "outputs": [],
   "source": []
  }
 ],
 "metadata": {
  "kernelspec": {
   "display_name": "HEDB-i6O8spUG",
   "language": "python",
   "name": "python3"
  },
  "language_info": {
   "codemirror_mode": {
    "name": "ipython",
    "version": 3
   },
   "file_extension": ".py",
   "mimetype": "text/x-python",
   "name": "python",
   "nbconvert_exporter": "python",
   "pygments_lexer": "ipython3",
   "version": "3.11.2"
  },
  "orig_nbformat": 4
 },
 "nbformat": 4,
 "nbformat_minor": 2
}
