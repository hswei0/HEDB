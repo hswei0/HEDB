{
 "cells": [
  {
   "cell_type": "code",
   "execution_count": 1,
   "metadata": {},
   "outputs": [],
   "source": [
    "import pandas as pd\n",
    "from pathlib import Path\n",
    "import re\n",
    "import os"
   ]
  },
  {
   "cell_type": "code",
   "execution_count": 2,
   "metadata": {},
   "outputs": [],
   "source": [
    "projRoot = Path.cwd().parents[0]\n",
    "root_stage3 = projRoot.joinpath('data/stage3')"
   ]
  },
  {
   "cell_type": "code",
   "execution_count": 9,
   "metadata": {},
   "outputs": [
    {
     "name": "stdout",
     "output_type": "stream",
     "text": [
      "[PosixPath('/Users/issac/Desktop/Dagshub/HEDB/data/stage3/stage3_student.csv')]\n"
     ]
    }
   ],
   "source": [
    "filepath = sorted(root_stage3.rglob('*stu*.csv'))\n",
    "print(filepath)"
   ]
  },
  {
   "cell_type": "code",
   "execution_count": 8,
   "metadata": {},
   "outputs": [],
   "source": [
    "import numpy as np\n",
    "df = pd.read_csv(filepath[0])"
   ]
  },
  {
   "attachments": {},
   "cell_type": "markdown",
   "metadata": {},
   "source": [
    "##### 1. 日間學制學士班及專科就學穩定率計算公式 = 當學年度2年級在學學生數(B) &#247; 前一學年度錄取1年級在學學生人數(A)\n",
    "資料來源：學16.學士班以下就學穩定率-以「校(含學制班別)」統計"
   ]
  },
  {
   "cell_type": "code",
   "execution_count": 13,
   "metadata": {},
   "outputs": [],
   "source": [
    "df['日間學制學士班及專科就學穩定率'] = df['當學年度2年級在學學生數(B)'] / df['前一學年度錄取1年級在學學生人數(A)']"
   ]
  },
  {
   "cell_type": "code",
   "execution_count": 27,
   "metadata": {},
   "outputs": [
    {
     "name": "stdout",
     "output_type": "stream",
     "text": [
      "     日間學制學士班及專科就學穩定率\n",
      "學年度                 \n",
      "105              NaN\n",
      "106              NaN\n",
      "107         0.882804\n",
      "108         0.856547\n",
      "109         0.854413\n",
      "110         0.865700\n",
      "111         0.863983\n"
     ]
    }
   ],
   "source": [
    "summary = df.groupby('學年度').agg({'日間學制學士班及專科就學穩定率': 'mean'})\n",
    "print(summary)"
   ]
  },
  {
   "attachments": {},
   "cell_type": "markdown",
   "metadata": {},
   "source": [
    "#### 2. 平均每位專任輔導人員服務正式學籍在學學生人數 = 正式學籍在學學生數 &#247; 專任輔導人員數\n",
    "資料來源："
   ]
  },
  {
   "cell_type": "code",
   "execution_count": null,
   "metadata": {},
   "outputs": [],
   "source": []
  }
 ],
 "metadata": {
  "kernelspec": {
   "display_name": "HEDB-i6O8spUG",
   "language": "python",
   "name": "python3"
  },
  "language_info": {
   "codemirror_mode": {
    "name": "ipython",
    "version": 3
   },
   "file_extension": ".py",
   "mimetype": "text/x-python",
   "name": "python",
   "nbconvert_exporter": "python",
   "pygments_lexer": "ipython3",
   "version": "3.11.2"
  },
  "orig_nbformat": 4
 },
 "nbformat": 4,
 "nbformat_minor": 2
}
