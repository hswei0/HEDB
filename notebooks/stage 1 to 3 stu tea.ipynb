{
 "cells": [
  {
   "cell_type": "code",
   "execution_count": 2,
   "metadata": {},
   "outputs": [],
   "source": [
    "import pandas as pd\n",
    "import numpy as np\n",
    "from pathlib import Path\n",
    "import re\n",
    "import os"
   ]
  },
  {
   "cell_type": "code",
   "execution_count": 23,
   "metadata": {},
   "outputs": [],
   "source": [
    "# Project Root Path\n",
    "projRoot = Path.cwd().parents[0]\n",
    "path_rawdata = projRoot.joinpath('data/raw')"
   ]
  },
  {
   "cell_type": "code",
   "execution_count": 29,
   "metadata": {},
   "outputs": [
    {
     "name": "stdout",
     "output_type": "stream",
     "text": [
      "[PosixPath('/Users/issac/Desktop/Dagshub/HEDB/data/raw/學1-1.正式學籍在學學生人數-以「系(所)」統計.csv'), PosixPath('/Users/issac/Desktop/Dagshub/HEDB/data/raw/學1-2.正式學籍在學學生人數-以「校(含學制班別)」統計.csv'), PosixPath('/Users/issac/Desktop/Dagshub/HEDB/data/raw/學10.日間學制修讀雙聯學制學生數-以「系(所)」統計.csv'), PosixPath('/Users/issac/Desktop/Dagshub/HEDB/data/raw/學11.學校辦理國際合作與交流資料表-以「校」統計.csv'), PosixPath('/Users/issac/Desktop/Dagshub/HEDB/data/raw/學12-1.新生(含境外生)註冊率-以「系(所)」統計.csv'), PosixPath('/Users/issac/Desktop/Dagshub/HEDB/data/raw/學12-2.新生(含境外生)註冊率-以「校(含學制班別)」統計.csv'), PosixPath('/Users/issac/Desktop/Dagshub/HEDB/data/raw/學12-3.新生(含境外生)註冊率-以「校」統計.csv'), PosixPath('/Users/issac/Desktop/Dagshub/HEDB/data/raw/學13-1.於學年底處於休學狀態之人數-以「系(所)」統計.csv'), PosixPath('/Users/issac/Desktop/Dagshub/HEDB/data/raw/學13-2.於學年底處於休學狀態之人數-以「校(含學制班別)」統計.csv'), PosixPath('/Users/issac/Desktop/Dagshub/HEDB/data/raw/學14-1.退學人數-以「系(所)」統計.csv'), PosixPath('/Users/issac/Desktop/Dagshub/HEDB/data/raw/學14-2.退學人數-以「校(含學制班別)」統計.csv'), PosixPath('/Users/issac/Desktop/Dagshub/HEDB/data/raw/學15.在學學生參與競賽、論文出版等成效-以「校(含學制班別)」統計.csv'), PosixPath('/Users/issac/Desktop/Dagshub/HEDB/data/raw/學16.學士班以下就學穩定率-以「校(含學制班別)」統計.csv'), PosixPath('/Users/issac/Desktop/Dagshub/HEDB/data/raw/學17.獎助生及勞僱型學生兼任助理人數-以「校」統計.csv'), PosixPath('/Users/issac/Desktop/Dagshub/HEDB/data/raw/學18.學校執行工讀及生活助學金情形-以「校」統計.csv'), PosixPath('/Users/issac/Desktop/Dagshub/HEDB/data/raw/學19.兼任助理平均每月支給金額人數統計表-以「校」統計.csv'), PosixPath('/Users/issac/Desktop/Dagshub/HEDB/data/raw/學2-1.畢業生數及其取得輔系、雙主修資格人數-以「系(所)」統計.csv'), PosixPath('/Users/issac/Desktop/Dagshub/HEDB/data/raw/學2-2.畢業生數及其取得輔系、雙主修資格人數-以「校(含學制班別)」統計.csv'), PosixPath('/Users/issac/Desktop/Dagshub/HEDB/data/raw/學2-3.畢業授予學位之中英文名稱及人數表-以「系(所)」統計.csv'), PosixPath('/Users/issac/Desktop/Dagshub/HEDB/data/raw/學2-4.畢業碩、博士學位論文資料-以「系(所)」統計.csv'), PosixPath('/Users/issac/Desktop/Dagshub/HEDB/data/raw/學2-5.畢業碩、博士學位論文資料-以「校(含學制班別)」統計.csv'), PosixPath('/Users/issac/Desktop/Dagshub/HEDB/data/raw/學20.學生實習情形-以「系(所)」統計.csv'), PosixPath('/Users/issac/Desktop/Dagshub/HEDB/data/raw/學21.學生實習機構及權益保障-以「系(所)」統計.csv'), PosixPath('/Users/issac/Desktop/Dagshub/HEDB/data/raw/學3-1.境外學位生數及其在學比率-以「系(所)」統計.csv'), PosixPath('/Users/issac/Desktop/Dagshub/HEDB/data/raw/學3-2.外國學生數及其在學比率-以「系(所)」統計.csv'), PosixPath('/Users/issac/Desktop/Dagshub/HEDB/data/raw/學3-3.僑生、港澳生數及其在學比率-以「系(所)」統計.csv'), PosixPath('/Users/issac/Desktop/Dagshub/HEDB/data/raw/學3-4.大陸地區來臺學位生數及其在學比率-以「系(所)」統計.csv'), PosixPath('/Users/issac/Desktop/Dagshub/HEDB/data/raw/學3-5.畢業境外生數-以「系(所)」統計.csv'), PosixPath('/Users/issac/Desktop/Dagshub/HEDB/data/raw/學3-6.畢業境外生數-以「校(含學制班別)」統計.csv'), PosixPath('/Users/issac/Desktop/Dagshub/HEDB/data/raw/學3-7.境外學位生數(依身分類別呈現)- 以「校(含學制班別)」統計.csv'), PosixPath('/Users/issac/Desktop/Dagshub/HEDB/data/raw/學4.日間學士班以下申請延長修業年限之延修生數-以「系(所)」統計.csv'), PosixPath('/Users/issac/Desktop/Dagshub/HEDB/data/raw/學5.日間學制本國學生出國進修交流人數-以「系(所)」統計.csv'), PosixPath('/Users/issac/Desktop/Dagshub/HEDB/data/raw/學6.修讀校際選課人次-以「系(所)」統計.csv'), PosixPath('/Users/issac/Desktop/Dagshub/HEDB/data/raw/學7.修讀輔系人次-以「系(所)」統計.csv'), PosixPath('/Users/issac/Desktop/Dagshub/HEDB/data/raw/學8.修讀雙主修人次-以「系(所)」統計.csv'), PosixPath('/Users/issac/Desktop/Dagshub/HEDB/data/raw/學9.學校雙聯合作案件數-以「系(所)」統計.csv'), PosixPath('/Users/issac/Desktop/Dagshub/HEDB/data/raw/教1-1.專任教師數-以「系(所)」統計.csv'), PosixPath('/Users/issac/Desktop/Dagshub/HEDB/data/raw/教1-2.專任教師數-以「校」統計.csv'), PosixPath('/Users/issac/Desktop/Dagshub/HEDB/data/raw/教1-3.專任教師數-以「校(編制內外)」統計.csv'), PosixPath('/Users/issac/Desktop/Dagshub/HEDB/data/raw/教1-4.專任教師數-以「校(編制內外、年齡組別)」統計.csv'), PosixPath('/Users/issac/Desktop/Dagshub/HEDB/data/raw/教1-5.專任教師數-以「校(編制內外、學位別)」統計.csv'), PosixPath('/Users/issac/Desktop/Dagshub/HEDB/data/raw/教10. 編制外專任教師平均支給數額與公立學校支給數額比較表-以「校」統計.csv'), PosixPath('/Users/issac/Desktop/Dagshub/HEDB/data/raw/教11. 編制外專任教師數及其比率-以「校」統計.csv'), PosixPath('/Users/issac/Desktop/Dagshub/HEDB/data/raw/教12. 學校學術主管不符合聘任資格統計表-以「校」統計.csv'), PosixPath('/Users/issac/Desktop/Dagshub/HEDB/data/raw/教13.私立學校兼任教師鐘點費-以「校」統計.csv'), PosixPath('/Users/issac/Desktop/Dagshub/HEDB/data/raw/教14.公立學校、政府機關(構)退休再任私立學校人數-以「校」統計.csv'), PosixPath('/Users/issac/Desktop/Dagshub/HEDB/data/raw/教15.兼任教師聘任情形-以「校」統計.csv'), PosixPath('/Users/issac/Desktop/Dagshub/HEDB/data/raw/教16.兼任教師不予再聘理由-以「校」統計.csv'), PosixPath('/Users/issac/Desktop/Dagshub/HEDB/data/raw/教17.私立學校調整學術研究加給情形-以「校」統計.csv'), PosixPath('/Users/issac/Desktop/Dagshub/HEDB/data/raw/教18.私立學校積欠教師薪資情形-以「校」統計.csv'), PosixPath('/Users/issac/Desktop/Dagshub/HEDB/data/raw/教19.專任教師基本授課時數-以「校」統計.csv'), PosixPath('/Users/issac/Desktop/Dagshub/HEDB/data/raw/教2-1.兼任教師數-以「系(所)」統計.csv'), PosixPath('/Users/issac/Desktop/Dagshub/HEDB/data/raw/教2-2.兼任教師數-以「校」統計.csv'), PosixPath('/Users/issac/Desktop/Dagshub/HEDB/data/raw/教20-1.專任教師實際授課時數大於規定職級之基本授課時數情形-以「系(所)」統計.csv'), PosixPath('/Users/issac/Desktop/Dagshub/HEDB/data/raw/教20-2.專任教師實際授課時數大於規定職級之基本授課時數情形-以「校」統計.csv'), PosixPath('/Users/issac/Desktop/Dagshub/HEDB/data/raw/教21-1.專任教師減授授課時數情形-以「系(所)」統計.csv'), PosixPath('/Users/issac/Desktop/Dagshub/HEDB/data/raw/教21-2.專任教師減授授課時數情形-以「校」統計.csv'), PosixPath('/Users/issac/Desktop/Dagshub/HEDB/data/raw/教3-1.外籍專任教師數-以「系(所)」統計.csv'), PosixPath('/Users/issac/Desktop/Dagshub/HEDB/data/raw/教3-2.外籍專任教師數-以「校」統計.csv'), PosixPath('/Users/issac/Desktop/Dagshub/HEDB/data/raw/教4-1.專任教師每週授課時數-以「系(所)」統計.csv'), PosixPath('/Users/issac/Desktop/Dagshub/HEDB/data/raw/教4-2.專任教師每週授課時數-以「校」統計.csv'), PosixPath('/Users/issac/Desktop/Dagshub/HEDB/data/raw/教5.日間學制生師比-以「校」統計.csv'), PosixPath('/Users/issac/Desktop/Dagshub/HEDB/data/raw/教6.近3學年度專任教師數增減比率-以「校」統計.csv'), PosixPath('/Users/issac/Desktop/Dagshub/HEDB/data/raw/教7.專任教師升等通過人數及其通過比率-以「校」統計.csv'), PosixPath('/Users/issac/Desktop/Dagshub/HEDB/data/raw/教8.專、兼任輔導人員數-以「校」統計.csv'), PosixPath('/Users/issac/Desktop/Dagshub/HEDB/data/raw/教9. 私立學校編制內專任教師平均支給數額與公立學校支給數額比較表-以「校」統計.csv')]\n"
     ]
    }
   ],
   "source": [
    "# Filepaths to raw data\n",
    "filepaths = sorted(path_rawdata.rglob('[教學]*.csv'))\n",
    "print(filepaths)"
   ]
  },
  {
   "cell_type": "code",
   "execution_count": 30,
   "metadata": {},
   "outputs": [
    {
     "name": "stderr",
     "output_type": "stream",
     "text": [
      "/var/folders/ty/15vk89y91j50b13mgsdgzxc80000gn/T/ipykernel_94313/2392185783.py:8: DtypeWarning: Columns (5) have mixed types. Specify dtype option on import or set low_memory=False.\n",
      "  df = pd.read_csv(file, na_values=['...', '無'])\n"
     ]
    }
   ],
   "source": [
    "# Stage1: '...' and '無' into np.na\n",
    "\n",
    "# creating stage1 folder\n",
    "path_stage1 = projRoot.joinpath('data/stage1')\n",
    "path_stage1.mkdir(exist_ok=True)\n",
    "\n",
    "for file in filepaths:\n",
    "    df = pd.read_csv(file, na_values=['...', '無'])\n",
    "    csv_filename = f'{path_stage1}/stage1_{file.name}'\n",
    "    df.to_csv(csv_filename, index=False)"
   ]
  },
  {
   "cell_type": "code",
   "execution_count": 40,
   "metadata": {},
   "outputs": [
    {
     "name": "stdout",
     "output_type": "stream",
     "text": [
      "[PosixPath('/Users/issac/Desktop/Dagshub/HEDB/data/stage1/stage1_學1-1.正式學籍在學學生人數-以「系(所)」統計.csv'), PosixPath('/Users/issac/Desktop/Dagshub/HEDB/data/stage1/stage1_學1-2.正式學籍在學學生人數-以「校(含學制班別)」統計.csv'), PosixPath('/Users/issac/Desktop/Dagshub/HEDB/data/stage1/stage1_學10.日間學制修讀雙聯學制學生數-以「系(所)」統計.csv'), PosixPath('/Users/issac/Desktop/Dagshub/HEDB/data/stage1/stage1_學11.學校辦理國際合作與交流資料表-以「校」統計.csv'), PosixPath('/Users/issac/Desktop/Dagshub/HEDB/data/stage1/stage1_學12-1.新生(含境外生)註冊率-以「系(所)」統計.csv'), PosixPath('/Users/issac/Desktop/Dagshub/HEDB/data/stage1/stage1_學12-2.新生(含境外生)註冊率-以「校(含學制班別)」統計.csv'), PosixPath('/Users/issac/Desktop/Dagshub/HEDB/data/stage1/stage1_學12-3.新生(含境外生)註冊率-以「校」統計.csv'), PosixPath('/Users/issac/Desktop/Dagshub/HEDB/data/stage1/stage1_學13-1.於學年底處於休學狀態之人數-以「系(所)」統計.csv'), PosixPath('/Users/issac/Desktop/Dagshub/HEDB/data/stage1/stage1_學13-2.於學年底處於休學狀態之人數-以「校(含學制班別)」統計.csv'), PosixPath('/Users/issac/Desktop/Dagshub/HEDB/data/stage1/stage1_學14-1.退學人數-以「系(所)」統計.csv'), PosixPath('/Users/issac/Desktop/Dagshub/HEDB/data/stage1/stage1_學14-2.退學人數-以「校(含學制班別)」統計.csv'), PosixPath('/Users/issac/Desktop/Dagshub/HEDB/data/stage1/stage1_學15.在學學生參與競賽、論文出版等成效-以「校(含學制班別)」統計.csv'), PosixPath('/Users/issac/Desktop/Dagshub/HEDB/data/stage1/stage1_學16.學士班以下就學穩定率-以「校(含學制班別)」統計.csv'), PosixPath('/Users/issac/Desktop/Dagshub/HEDB/data/stage1/stage1_學17.獎助生及勞僱型學生兼任助理人數-以「校」統計.csv'), PosixPath('/Users/issac/Desktop/Dagshub/HEDB/data/stage1/stage1_學18.學校執行工讀及生活助學金情形-以「校」統計.csv'), PosixPath('/Users/issac/Desktop/Dagshub/HEDB/data/stage1/stage1_學19.兼任助理平均每月支給金額人數統計表-以「校」統計.csv'), PosixPath('/Users/issac/Desktop/Dagshub/HEDB/data/stage1/stage1_學2-1.畢業生數及其取得輔系、雙主修資格人數-以「系(所)」統計.csv'), PosixPath('/Users/issac/Desktop/Dagshub/HEDB/data/stage1/stage1_學2-2.畢業生數及其取得輔系、雙主修資格人數-以「校(含學制班別)」統計.csv'), PosixPath('/Users/issac/Desktop/Dagshub/HEDB/data/stage1/stage1_學2-3.畢業授予學位之中英文名稱及人數表-以「系(所)」統計.csv'), PosixPath('/Users/issac/Desktop/Dagshub/HEDB/data/stage1/stage1_學2-4.畢業碩、博士學位論文資料-以「系(所)」統計.csv'), PosixPath('/Users/issac/Desktop/Dagshub/HEDB/data/stage1/stage1_學2-5.畢業碩、博士學位論文資料-以「校(含學制班別)」統計.csv'), PosixPath('/Users/issac/Desktop/Dagshub/HEDB/data/stage1/stage1_學20.學生實習情形-以「系(所)」統計.csv'), PosixPath('/Users/issac/Desktop/Dagshub/HEDB/data/stage1/stage1_學21.學生實習機構及權益保障-以「系(所)」統計.csv'), PosixPath('/Users/issac/Desktop/Dagshub/HEDB/data/stage1/stage1_學3-1.境外學位生數及其在學比率-以「系(所)」統計.csv'), PosixPath('/Users/issac/Desktop/Dagshub/HEDB/data/stage1/stage1_學3-2.外國學生數及其在學比率-以「系(所)」統計.csv'), PosixPath('/Users/issac/Desktop/Dagshub/HEDB/data/stage1/stage1_學3-3.僑生、港澳生數及其在學比率-以「系(所)」統計.csv'), PosixPath('/Users/issac/Desktop/Dagshub/HEDB/data/stage1/stage1_學3-4.大陸地區來臺學位生數及其在學比率-以「系(所)」統計.csv'), PosixPath('/Users/issac/Desktop/Dagshub/HEDB/data/stage1/stage1_學3-5.畢業境外生數-以「系(所)」統計.csv'), PosixPath('/Users/issac/Desktop/Dagshub/HEDB/data/stage1/stage1_學3-6.畢業境外生數-以「校(含學制班別)」統計.csv'), PosixPath('/Users/issac/Desktop/Dagshub/HEDB/data/stage1/stage1_學3-7.境外學位生數(依身分類別呈現)- 以「校(含學制班別)」統計.csv'), PosixPath('/Users/issac/Desktop/Dagshub/HEDB/data/stage1/stage1_學4.日間學士班以下申請延長修業年限之延修生數-以「系(所)」統計.csv'), PosixPath('/Users/issac/Desktop/Dagshub/HEDB/data/stage1/stage1_學5.日間學制本國學生出國進修交流人數-以「系(所)」統計.csv'), PosixPath('/Users/issac/Desktop/Dagshub/HEDB/data/stage1/stage1_學6.修讀校際選課人次-以「系(所)」統計.csv'), PosixPath('/Users/issac/Desktop/Dagshub/HEDB/data/stage1/stage1_學7.修讀輔系人次-以「系(所)」統計.csv'), PosixPath('/Users/issac/Desktop/Dagshub/HEDB/data/stage1/stage1_學8.修讀雙主修人次-以「系(所)」統計.csv'), PosixPath('/Users/issac/Desktop/Dagshub/HEDB/data/stage1/stage1_學9.學校雙聯合作案件數-以「系(所)」統計.csv'), PosixPath('/Users/issac/Desktop/Dagshub/HEDB/data/stage1/stage1_教1-1.專任教師數-以「系(所)」統計.csv'), PosixPath('/Users/issac/Desktop/Dagshub/HEDB/data/stage1/stage1_教1-2.專任教師數-以「校」統計.csv'), PosixPath('/Users/issac/Desktop/Dagshub/HEDB/data/stage1/stage1_教1-3.專任教師數-以「校(編制內外)」統計.csv'), PosixPath('/Users/issac/Desktop/Dagshub/HEDB/data/stage1/stage1_教1-4.專任教師數-以「校(編制內外、年齡組別)」統計.csv'), PosixPath('/Users/issac/Desktop/Dagshub/HEDB/data/stage1/stage1_教1-5.專任教師數-以「校(編制內外、學位別)」統計.csv'), PosixPath('/Users/issac/Desktop/Dagshub/HEDB/data/stage1/stage1_教10. 編制外專任教師平均支給數額與公立學校支給數額比較表-以「校」統計.csv'), PosixPath('/Users/issac/Desktop/Dagshub/HEDB/data/stage1/stage1_教11. 編制外專任教師數及其比率-以「校」統計.csv'), PosixPath('/Users/issac/Desktop/Dagshub/HEDB/data/stage1/stage1_教12. 學校學術主管不符合聘任資格統計表-以「校」統計.csv'), PosixPath('/Users/issac/Desktop/Dagshub/HEDB/data/stage1/stage1_教13.私立學校兼任教師鐘點費-以「校」統計.csv'), PosixPath('/Users/issac/Desktop/Dagshub/HEDB/data/stage1/stage1_教14.公立學校、政府機關(構)退休再任私立學校人數-以「校」統計.csv'), PosixPath('/Users/issac/Desktop/Dagshub/HEDB/data/stage1/stage1_教15.兼任教師聘任情形-以「校」統計.csv'), PosixPath('/Users/issac/Desktop/Dagshub/HEDB/data/stage1/stage1_教16.兼任教師不予再聘理由-以「校」統計.csv'), PosixPath('/Users/issac/Desktop/Dagshub/HEDB/data/stage1/stage1_教17.私立學校調整學術研究加給情形-以「校」統計.csv'), PosixPath('/Users/issac/Desktop/Dagshub/HEDB/data/stage1/stage1_教18.私立學校積欠教師薪資情形-以「校」統計.csv'), PosixPath('/Users/issac/Desktop/Dagshub/HEDB/data/stage1/stage1_教19.專任教師基本授課時數-以「校」統計.csv'), PosixPath('/Users/issac/Desktop/Dagshub/HEDB/data/stage1/stage1_教2-1.兼任教師數-以「系(所)」統計.csv'), PosixPath('/Users/issac/Desktop/Dagshub/HEDB/data/stage1/stage1_教2-2.兼任教師數-以「校」統計.csv'), PosixPath('/Users/issac/Desktop/Dagshub/HEDB/data/stage1/stage1_教20-1.專任教師實際授課時數大於規定職級之基本授課時數情形-以「系(所)」統計.csv'), PosixPath('/Users/issac/Desktop/Dagshub/HEDB/data/stage1/stage1_教20-2.專任教師實際授課時數大於規定職級之基本授課時數情形-以「校」統計.csv'), PosixPath('/Users/issac/Desktop/Dagshub/HEDB/data/stage1/stage1_教21-1.專任教師減授授課時數情形-以「系(所)」統計.csv'), PosixPath('/Users/issac/Desktop/Dagshub/HEDB/data/stage1/stage1_教21-2.專任教師減授授課時數情形-以「校」統計.csv'), PosixPath('/Users/issac/Desktop/Dagshub/HEDB/data/stage1/stage1_教3-1.外籍專任教師數-以「系(所)」統計.csv'), PosixPath('/Users/issac/Desktop/Dagshub/HEDB/data/stage1/stage1_教3-2.外籍專任教師數-以「校」統計.csv'), PosixPath('/Users/issac/Desktop/Dagshub/HEDB/data/stage1/stage1_教4-1.專任教師每週授課時數-以「系(所)」統計.csv'), PosixPath('/Users/issac/Desktop/Dagshub/HEDB/data/stage1/stage1_教4-2.專任教師每週授課時數-以「校」統計.csv'), PosixPath('/Users/issac/Desktop/Dagshub/HEDB/data/stage1/stage1_教5.日間學制生師比-以「校」統計.csv'), PosixPath('/Users/issac/Desktop/Dagshub/HEDB/data/stage1/stage1_教6.近3學年度專任教師數增減比率-以「校」統計.csv'), PosixPath('/Users/issac/Desktop/Dagshub/HEDB/data/stage1/stage1_教7.專任教師升等通過人數及其通過比率-以「校」統計.csv'), PosixPath('/Users/issac/Desktop/Dagshub/HEDB/data/stage1/stage1_教8.專、兼任輔導人員數-以「校」統計.csv'), PosixPath('/Users/issac/Desktop/Dagshub/HEDB/data/stage1/stage1_教9. 私立學校編制內專任教師平均支給數額與公立學校支給數額比較表-以「校」統計.csv')]\n"
     ]
    }
   ],
   "source": [
    "# Filepaths to stage 1 data\n",
    "filepaths_s1 = sorted(path_stage1.rglob('stage1_[教學]*.csv'))\n",
    "print(filepaths_s1)"
   ]
  },
  {
   "cell_type": "code",
   "execution_count": 41,
   "metadata": {},
   "outputs": [
    {
     "name": "stdout",
     "output_type": "stream",
     "text": [
      "[]\n",
      "[]\n",
      "[]\n",
      "[]\n"
     ]
    },
    {
     "name": "stderr",
     "output_type": "stream",
     "text": [
      "/var/folders/ty/15vk89y91j50b13mgsdgzxc80000gn/T/ipykernel_94313/1547764613.py:9: DtypeWarning: Columns (5) have mixed types. Specify dtype option on import or set low_memory=False.\n",
      "  df = pd.read_csv(file)\n"
     ]
    },
    {
     "name": "stdout",
     "output_type": "stream",
     "text": [
      "['當學年度新生註冊率(%)D=〔(C+E)/(A-B+E)〕＊100％']\n",
      "['當學年度各學制新生註冊率(%)E=〔(C+D)/(A-B+D)〕*100％']\n",
      "[]\n",
      "[]\n",
      "[]\n",
      "[]\n",
      "[]\n",
      "[]\n",
      "['前一學年度學生就學穩定率(%)(C)(C=B/A)']\n",
      "[]\n",
      "[]\n",
      "[]\n",
      "[]\n",
      "[]\n",
      "[]\n",
      "[]\n",
      "[]\n",
      "[]\n",
      "[]\n",
      "['境外學位生數之在學比率(%)']\n",
      "['外國學生數之在學比率(%)']\n",
      "['僑生及港澳生數之在學比率(%)']\n",
      "['大陸地區來臺學位生數之在學比率(%)']\n",
      "[]\n",
      "[]\n",
      "[]\n",
      "[]\n",
      "[]\n",
      "[]\n",
      "[]\n",
      "[]\n",
      "[]\n",
      "[]\n",
      "[]\n",
      "[]\n",
      "[]\n",
      "[]\n",
      "['編制外專任教師支給數額情形-教授-平均支給數額', '編制外專任教師支給數額情形-教授-與公立學校支給數額相較之比率(%)', '編制外專任教師支給數額情形-副教授-平均支給數額', '編制外專任教師支給數額情形-副教授-與公立學校支給數額相較之比率(%)', '編制外專任教師支給數額情形-助理教授-平均支給數額', '編制外專任教師支給數額情形-助理教授-與公立學校支給數額相較之比率(%)', '編制外專任教師支給數額情形-講師-平均支給數額', '編制外專任教師支給數額情形-講師-與公立學校支給數額相較之比率(%)']\n",
      "not in use: stage1_教10. 編制外專任教師平均支給數額與公立學校支給數額比較表-以「校」統計.csv\n"
     ]
    }
   ],
   "source": [
    "# Stage2: Aggregate to school-year data (on school level)\n",
    "\n",
    "# creating stage2 folder\n",
    "path_stage2 = projRoot.joinpath('data/stage2')\n",
    "path_stage2.mkdir(exist_ok=True)\n",
    "\n",
    "# 2-1 long to wide on '學期' (by '學年度' and '學校統計處代碼')\n",
    "for file in filepaths_s1:\n",
    "    df = pd.read_csv(file)\n",
    "    df[['學年度', '學校統計處代碼']] = df[['學年度', '學校統計處代碼']].astype('object')\n",
    "    cols_to_drop = [col for col in df.columns if ('%' in col) or ('平均' in col)] #平均、百分比等資訊等aggregate之後再重新計算\n",
    "    df = df.drop(cols_to_drop, axis=1)\n",
    "    print(cols_to_drop)\n",
    "    if ('休學' in f'{file}') or ('退學' in f'{file}'): #目前休退學人數統計表各自「以「系(所)」」為單位的表，人數加總不一致，所以刪掉\n",
    "        df = df.drop(['在學學生數'], axis=1)\n",
    "\n",
    "    numeric_cols = df.select_dtypes(include=['int', 'float']).columns.tolist()\n",
    "    numeric_cols = list(filter(lambda x: x not in ['學期', '系所代碼'], numeric_cols))\n",
    "    if ('學期' in list(df.columns)) and (numeric_cols != []): #有分1、2學期的資料表，依學期做long 轉wide\n",
    "        df = df.groupby(['學年度', '學校統計處代碼', '學期'])[numeric_cols].agg(lambda x: np.nan if np.all(pd.isna(x)) else x.sum())\n",
    "        df.reset_index(inplace=True)\n",
    "        df = df.pivot(index=['學年度', '學校統計處代碼'], columns= '學期', values= numeric_cols)\n",
    "        df.columns = [f\"{col[0]}_{col[1]}\" for col in df.columns]\n",
    "        df.reset_index(inplace=True)\n",
    "    elif numeric_cols == []: #如果整張表都沒有數值變項，就先不採用（跟指標較無關，或再想辦法呈現）\n",
    "        filepaths_s1.remove(file)\n",
    "        print('not in use: '+ f'{file.name}')\n",
    "    elif '學年底' in f'{file}': #「以學年底狀態統計」的表，視作是第2學期的數據，變項名稱加上後綴'_2'\n",
    "        df = df.rename(columns={col: col+'_2' for col in df[numeric_cols]})\n",
    "    # aggregate to school level\n",
    "    df = df.groupby(['學年度', '學校統計處代碼'])[numeric_cols].agg(lambda x: np.nan if np.all(pd.isna(x)) else x.sum())\n",
    "    df.reset_index(inplace=True)\n",
    "    csv_filename = f'{path_stage2}/stage2_{file.name[7:]}'\n",
    "    df.to_csv(csv_filename, index=False)"
   ]
  },
  {
   "cell_type": "code",
   "execution_count": null,
   "metadata": {},
   "outputs": [],
   "source": [
    "# Stage3: All stage2 datasets merged"
   ]
  }
 ],
 "metadata": {
  "kernelspec": {
   "display_name": "HEDB-i6O8spUG",
   "language": "python",
   "name": "python3"
  },
  "language_info": {
   "codemirror_mode": {
    "name": "ipython",
    "version": 3
   },
   "file_extension": ".py",
   "mimetype": "text/x-python",
   "name": "python",
   "nbconvert_exporter": "python",
   "pygments_lexer": "ipython3",
   "version": "3.11.2"
  },
  "orig_nbformat": 4
 },
 "nbformat": 4,
 "nbformat_minor": 2
}
