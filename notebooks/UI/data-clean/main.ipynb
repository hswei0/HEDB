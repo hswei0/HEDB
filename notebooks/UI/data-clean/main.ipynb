{
 "cells": [
  {
   "attachments": {},
   "cell_type": "markdown",
   "metadata": {},
   "source": [
    "# 資料處理"
   ]
  },
  {
   "cell_type": "code",
   "execution_count": null,
   "metadata": {},
   "outputs": [],
   "source": [
    "from pathlib import Path\n",
    "import pandas as pd\n",
    "import sys"
   ]
  },
  {
   "cell_type": "code",
   "execution_count": null,
   "metadata": {},
   "outputs": [],
   "source": [
    "# 設定執行路徑\n",
    "# ipynb `Path.cwd()` 為執行檔所在路徑\n",
    "projRoot = Path.cwd().parents[2]\n",
    "print(projRoot)"
   ]
  },
  {
   "cell_type": "code",
   "execution_count": null,
   "metadata": {},
   "outputs": [],
   "source": [
    "# 設定自製套件的路徑\n",
    "sys.path.append(str(projRoot))\n",
    "from src.data import make_stage1 as stg1"
   ]
  },
  {
   "attachments": {},
   "cell_type": "markdown",
   "metadata": {},
   "source": [
    "### 下載原始資料"
   ]
  },
  {
   "cell_type": "code",
   "execution_count": null,
   "metadata": {},
   "outputs": [],
   "source": [
    "%run {projRoot.joinpath('src/data/download_data.py')}"
   ]
  },
  {
   "attachments": {},
   "cell_type": "markdown",
   "metadata": {},
   "source": [
    "### 製作編碼簿"
   ]
  },
  {
   "cell_type": "code",
   "execution_count": null,
   "metadata": {},
   "outputs": [],
   "source": [
    "%run {projRoot.joinpath('src/data/gen_codebook.py')}"
   ]
  },
  {
   "attachments": {},
   "cell_type": "markdown",
   "metadata": {},
   "source": [
    "### 輸出彙整編碼簿"
   ]
  },
  {
   "cell_type": "code",
   "execution_count": null,
   "metadata": {},
   "outputs": [],
   "source": [
    "root_manraw = projRoot.joinpath('man/raw')\n",
    "filepaths = sorted(root_manraw.rglob('*.csv'))\n",
    "df = pd.concat((pd.read_csv(f) for f in filepaths), ignore_index=True)\n",
    "df.to_csv(str(projRoot) + '/man/大表.csv', index=False)"
   ]
  },
  {
   "attachments": {},
   "cell_type": "markdown",
   "metadata": {},
   "source": [
    "### 輸出原始資料檢誤報告\n",
    "\n",
    "- 路徑：`reports/desc/raw`\n",
    "\n",
    "產製原始資料的描述統計、基本的變項檢誤報表"
   ]
  },
  {
   "cell_type": "code",
   "execution_count": null,
   "metadata": {},
   "outputs": [],
   "source": [
    "st1 = Stage1Data(projRoot)\n",
    "st1.raw_desc()"
   ]
  },
  {
   "attachments": {},
   "cell_type": "markdown",
   "metadata": {},
   "source": [
    "### 輸出 Stage1 Dataset\n",
    "\n",
    "資料清理項目\n",
    "- 遺漏值設定: `...`, `無`\n",
    "- 年度、學年度轉換為西元年"
   ]
  },
  {
   "cell_type": "code",
   "execution_count": null,
   "metadata": {},
   "outputs": [],
   "source": [
    "st1 = Stage1Data(projRoot)\n",
    "st1.toStage1_pipeline()"
   ]
  }
 ],
 "metadata": {
  "kernelspec": {
   "display_name": "HEDB-cWz3J9KE",
   "language": "python",
   "name": "python3"
  },
  "language_info": {
   "codemirror_mode": {
    "name": "ipython",
    "version": 3
   },
   "file_extension": ".py",
   "mimetype": "text/x-python",
   "name": "python",
   "nbconvert_exporter": "python",
   "pygments_lexer": "ipython3",
   "version": "3.11.3"
  },
  "orig_nbformat": 4
 },
 "nbformat": 4,
 "nbformat_minor": 2
}
