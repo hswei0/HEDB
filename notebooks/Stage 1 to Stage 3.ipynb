{
 "cells": [
  {
   "attachments": {},
   "cell_type": "markdown",
   "metadata": {},
   "source": [
    "## 學生類（36張）"
   ]
  },
  {
   "cell_type": "code",
   "execution_count": 1,
   "metadata": {},
   "outputs": [],
   "source": [
    "import pandas as pd\n",
    "from pathlib import Path\n",
    "import re\n",
    "import os"
   ]
  },
  {
   "cell_type": "code",
   "execution_count": 2,
   "metadata": {},
   "outputs": [],
   "source": [
    "projRoot = Path.cwd().parents[0]\n",
    "root_rawdata = projRoot.joinpath('data/raw')"
   ]
  },
  {
   "cell_type": "code",
   "execution_count": 3,
   "metadata": {},
   "outputs": [
    {
     "name": "stdout",
     "output_type": "stream",
     "text": [
      "[PosixPath('/Users/issac/Desktop/Dagshub/HEDB/data/raw/學1-1.正式學籍在學學生人數-以「系(所)」統計.csv'), PosixPath('/Users/issac/Desktop/Dagshub/HEDB/data/raw/學1-2.正式學籍在學學生人數-以「校(含學制班別)」統計.csv'), PosixPath('/Users/issac/Desktop/Dagshub/HEDB/data/raw/學10.日間學制修讀雙聯學制學生數-以「系(所)」統計.csv'), PosixPath('/Users/issac/Desktop/Dagshub/HEDB/data/raw/學11.學校辦理國際合作與交流資料表-以「校」統計.csv'), PosixPath('/Users/issac/Desktop/Dagshub/HEDB/data/raw/學12-1.新生(含境外生)註冊率-以「系(所)」統計.csv'), PosixPath('/Users/issac/Desktop/Dagshub/HEDB/data/raw/學12-2.新生(含境外生)註冊率-以「校(含學制班別)」統計.csv'), PosixPath('/Users/issac/Desktop/Dagshub/HEDB/data/raw/學12-3.新生(含境外生)註冊率-以「校」統計.csv'), PosixPath('/Users/issac/Desktop/Dagshub/HEDB/data/raw/學13-1.於學年底處於休學狀態之人數-以「系(所)」統計.csv'), PosixPath('/Users/issac/Desktop/Dagshub/HEDB/data/raw/學13-2.於學年底處於休學狀態之人數-以「校(含學制班別)」統計.csv'), PosixPath('/Users/issac/Desktop/Dagshub/HEDB/data/raw/學14-1.退學人數-以「系(所)」統計.csv'), PosixPath('/Users/issac/Desktop/Dagshub/HEDB/data/raw/學14-2.退學人數-以「校(含學制班別)」統計.csv'), PosixPath('/Users/issac/Desktop/Dagshub/HEDB/data/raw/學15.在學學生參與競賽、論文出版等成效-以「校(含學制班別)」統計.csv'), PosixPath('/Users/issac/Desktop/Dagshub/HEDB/data/raw/學16.學士班以下就學穩定率-以「校(含學制班別)」統計.csv'), PosixPath('/Users/issac/Desktop/Dagshub/HEDB/data/raw/學17.獎助生及勞僱型學生兼任助理人數-以「校」統計.csv'), PosixPath('/Users/issac/Desktop/Dagshub/HEDB/data/raw/學18.學校執行工讀及生活助學金情形-以「校」統計.csv'), PosixPath('/Users/issac/Desktop/Dagshub/HEDB/data/raw/學19.兼任助理平均每月支給金額人數統計表-以「校」統計.csv'), PosixPath('/Users/issac/Desktop/Dagshub/HEDB/data/raw/學2-1.畢業生數及其取得輔系、雙主修資格人數-以「系(所)」統計.csv'), PosixPath('/Users/issac/Desktop/Dagshub/HEDB/data/raw/學2-2.畢業生數及其取得輔系、雙主修資格人數-以「校(含學制班別)」統計.csv'), PosixPath('/Users/issac/Desktop/Dagshub/HEDB/data/raw/學2-3.畢業授予學位之中英文名稱及人數表-以「系(所)」統計.csv'), PosixPath('/Users/issac/Desktop/Dagshub/HEDB/data/raw/學2-4.畢業碩、博士學位論文資料-以「系(所)」統計.csv'), PosixPath('/Users/issac/Desktop/Dagshub/HEDB/data/raw/學2-5.畢業碩、博士學位論文資料-以「校(含學制班別)」統計.csv'), PosixPath('/Users/issac/Desktop/Dagshub/HEDB/data/raw/學20.學生實習情形-以「系(所)」統計.csv'), PosixPath('/Users/issac/Desktop/Dagshub/HEDB/data/raw/學21.學生實習機構及權益保障-以「系(所)」統計.csv'), PosixPath('/Users/issac/Desktop/Dagshub/HEDB/data/raw/學3-1.境外學位生數及其在學比率-以「系(所)」統計.csv'), PosixPath('/Users/issac/Desktop/Dagshub/HEDB/data/raw/學3-2.外國學生數及其在學比率-以「系(所)」統計.csv'), PosixPath('/Users/issac/Desktop/Dagshub/HEDB/data/raw/學3-3.僑生、港澳生數及其在學比率-以「系(所)」統計.csv'), PosixPath('/Users/issac/Desktop/Dagshub/HEDB/data/raw/學3-4.大陸地區來臺學位生數及其在學比率-以「系(所)」統計.csv'), PosixPath('/Users/issac/Desktop/Dagshub/HEDB/data/raw/學3-5.畢業境外生數-以「系(所)」統計.csv'), PosixPath('/Users/issac/Desktop/Dagshub/HEDB/data/raw/學3-6.畢業境外生數-以「校(含學制班別)」統計.csv'), PosixPath('/Users/issac/Desktop/Dagshub/HEDB/data/raw/學3-7.境外學位生數(依身分類別呈現)- 以「校(含學制班別)」統計.csv'), PosixPath('/Users/issac/Desktop/Dagshub/HEDB/data/raw/學4.日間學士班以下申請延長修業年限之延修生數-以「系(所)」統計.csv'), PosixPath('/Users/issac/Desktop/Dagshub/HEDB/data/raw/學5.日間學制本國學生出國進修交流人數-以「系(所)」統計.csv'), PosixPath('/Users/issac/Desktop/Dagshub/HEDB/data/raw/學6.修讀校際選課人次-以「系(所)」統計.csv'), PosixPath('/Users/issac/Desktop/Dagshub/HEDB/data/raw/學7.修讀輔系人次-以「系(所)」統計.csv'), PosixPath('/Users/issac/Desktop/Dagshub/HEDB/data/raw/學8.修讀雙主修人次-以「系(所)」統計.csv'), PosixPath('/Users/issac/Desktop/Dagshub/HEDB/data/raw/學9.學校雙聯合作案件數-以「系(所)」統計.csv')]\n"
     ]
    }
   ],
   "source": [
    "filepaths = sorted(root_rawdata.rglob('學*.csv'))\n",
    "print(filepaths)"
   ]
  },
  {
   "attachments": {},
   "cell_type": "markdown",
   "metadata": {},
   "source": [
    "### Stage 1 & Stage 2 ( '...' to np.nan, object to int, & aggregate to school level )"
   ]
  },
  {
   "cell_type": "code",
   "execution_count": 86,
   "metadata": {},
   "outputs": [
    {
     "name": "stderr",
     "output_type": "stream",
     "text": [
      "/var/folders/ty/15vk89y91j50b13mgsdgzxc80000gn/T/ipykernel_59116/2940381913.py:8: DtypeWarning: Columns (5) have mixed types. Specify dtype option on import or set low_memory=False.\n",
      "  df = pd.read_csv(fn, na_values=['...']) #把...變成np.na\n"
     ]
    }
   ],
   "source": [
    "# Stage 1\n",
    "import numpy as np\n",
    "\n",
    "root_stage1 = projRoot.joinpath('data/stage1')\n",
    "root_stage1.mkdir(exist_ok=True)\n",
    "\n",
    "for fn in filepaths:\n",
    "    df = pd.read_csv(fn, na_values=['...']) #把...變成np.na\n",
    "    if ('休學' in f'{fn}') or ('退學' in f'{fn}'): #目前休退學人數統計表各自「以「系(所)」」為單位的表，人數加總不一致，所以刪掉\n",
    "        df = df.drop(['在學學生數'], axis=1)\n",
    "\n",
    "    int_columns = df.select_dtypes(include=['int', 'float']).columns.tolist()\n",
    "    int_columns = list(filter(lambda x: x not in ['學年度', '學校統計處代碼', '系所代碼'], int_columns)) #不讓這幾個變項被加總\n",
    "\n",
    "    if '學期' in list(df.columns): #有分1、2學期的資料表，依學期做long 轉wide\n",
    "        df = df.groupby(['學年度', '學校統計處代碼', '學期'])[int_columns].agg(lambda x: np.nan if np.all(pd.isna(x)) else x.sum())\n",
    "        df.reset_index(inplace=True)\n",
    "        df = df.pivot(index=['學年度', '學校統計處代碼'], columns= '學期', values= int_columns)\n",
    "        df.columns = [f\"{col[0]}_{col[1]}\" for col in df.columns]\n",
    "        df.reset_index(inplace=True)\n",
    "        df = df.drop(['學期_1', '學期_2'], axis=1)\n",
    "    elif '學年底' in f'{fn}': #「以學年底狀態統計」的表，視作是第2學期的數據，變項名稱加上後綴'_2'\n",
    "        df = df.rename(columns={col: col+'_2' for col in df[int_columns]})\n",
    "    csv_filename = f'{root_stage1}/stage1_{fn.name}'\n",
    "    df.to_csv(csv_filename, index=False)\n",
    "    "
   ]
  },
  {
   "cell_type": "code",
   "execution_count": 5,
   "metadata": {},
   "outputs": [
    {
     "name": "stdout",
     "output_type": "stream",
     "text": [
      "[PosixPath('/Users/issac/Desktop/Dagshub/HEDB/data/stage1/stage1_學1-1.正式學籍在學學生人數-以「系(所)」統計.csv'), PosixPath('/Users/issac/Desktop/Dagshub/HEDB/data/stage1/stage1_學1-2.正式學籍在學學生人數-以「校(含學制班別)」統計.csv'), PosixPath('/Users/issac/Desktop/Dagshub/HEDB/data/stage1/stage1_學10.日間學制修讀雙聯學制學生數-以「系(所)」統計.csv'), PosixPath('/Users/issac/Desktop/Dagshub/HEDB/data/stage1/stage1_學11.學校辦理國際合作與交流資料表-以「校」統計.csv'), PosixPath('/Users/issac/Desktop/Dagshub/HEDB/data/stage1/stage1_學12-1.新生(含境外生)註冊率-以「系(所)」統計.csv'), PosixPath('/Users/issac/Desktop/Dagshub/HEDB/data/stage1/stage1_學12-2.新生(含境外生)註冊率-以「校(含學制班別)」統計.csv'), PosixPath('/Users/issac/Desktop/Dagshub/HEDB/data/stage1/stage1_學12-3.新生(含境外生)註冊率-以「校」統計.csv'), PosixPath('/Users/issac/Desktop/Dagshub/HEDB/data/stage1/stage1_學13-1.於學年底處於休學狀態之人數-以「系(所)」統計.csv'), PosixPath('/Users/issac/Desktop/Dagshub/HEDB/data/stage1/stage1_學13-2.於學年底處於休學狀態之人數-以「校(含學制班別)」統計.csv'), PosixPath('/Users/issac/Desktop/Dagshub/HEDB/data/stage1/stage1_學14-1.退學人數-以「系(所)」統計.csv'), PosixPath('/Users/issac/Desktop/Dagshub/HEDB/data/stage1/stage1_學14-2.退學人數-以「校(含學制班別)」統計.csv'), PosixPath('/Users/issac/Desktop/Dagshub/HEDB/data/stage1/stage1_學15.在學學生參與競賽、論文出版等成效-以「校(含學制班別)」統計.csv'), PosixPath('/Users/issac/Desktop/Dagshub/HEDB/data/stage1/stage1_學16.學士班以下就學穩定率-以「校(含學制班別)」統計.csv'), PosixPath('/Users/issac/Desktop/Dagshub/HEDB/data/stage1/stage1_學17.獎助生及勞僱型學生兼任助理人數-以「校」統計.csv'), PosixPath('/Users/issac/Desktop/Dagshub/HEDB/data/stage1/stage1_學18.學校執行工讀及生活助學金情形-以「校」統計.csv'), PosixPath('/Users/issac/Desktop/Dagshub/HEDB/data/stage1/stage1_學19.兼任助理平均每月支給金額人數統計表-以「校」統計.csv'), PosixPath('/Users/issac/Desktop/Dagshub/HEDB/data/stage1/stage1_學2-1.畢業生數及其取得輔系、雙主修資格人數-以「系(所)」統計.csv'), PosixPath('/Users/issac/Desktop/Dagshub/HEDB/data/stage1/stage1_學2-2.畢業生數及其取得輔系、雙主修資格人數-以「校(含學制班別)」統計.csv'), PosixPath('/Users/issac/Desktop/Dagshub/HEDB/data/stage1/stage1_學2-3.畢業授予學位之中英文名稱及人數表-以「系(所)」統計.csv'), PosixPath('/Users/issac/Desktop/Dagshub/HEDB/data/stage1/stage1_學2-4.畢業碩、博士學位論文資料-以「系(所)」統計.csv'), PosixPath('/Users/issac/Desktop/Dagshub/HEDB/data/stage1/stage1_學2-5.畢業碩、博士學位論文資料-以「校(含學制班別)」統計.csv'), PosixPath('/Users/issac/Desktop/Dagshub/HEDB/data/stage1/stage1_學20.學生實習情形-以「系(所)」統計.csv'), PosixPath('/Users/issac/Desktop/Dagshub/HEDB/data/stage1/stage1_學21.學生實習機構及權益保障-以「系(所)」統計.csv'), PosixPath('/Users/issac/Desktop/Dagshub/HEDB/data/stage1/stage1_學3-1.境外學位生數及其在學比率-以「系(所)」統計.csv'), PosixPath('/Users/issac/Desktop/Dagshub/HEDB/data/stage1/stage1_學3-2.外國學生數及其在學比率-以「系(所)」統計.csv'), PosixPath('/Users/issac/Desktop/Dagshub/HEDB/data/stage1/stage1_學3-3.僑生、港澳生數及其在學比率-以「系(所)」統計.csv'), PosixPath('/Users/issac/Desktop/Dagshub/HEDB/data/stage1/stage1_學3-4.大陸地區來臺學位生數及其在學比率-以「系(所)」統計.csv'), PosixPath('/Users/issac/Desktop/Dagshub/HEDB/data/stage1/stage1_學3-5.畢業境外生數-以「系(所)」統計.csv'), PosixPath('/Users/issac/Desktop/Dagshub/HEDB/data/stage1/stage1_學3-6.畢業境外生數-以「校(含學制班別)」統計.csv'), PosixPath('/Users/issac/Desktop/Dagshub/HEDB/data/stage1/stage1_學3-7.境外學位生數(依身分類別呈現)- 以「校(含學制班別)」統計.csv'), PosixPath('/Users/issac/Desktop/Dagshub/HEDB/data/stage1/stage1_學4.日間學士班以下申請延長修業年限之延修生數-以「系(所)」統計.csv'), PosixPath('/Users/issac/Desktop/Dagshub/HEDB/data/stage1/stage1_學5.日間學制本國學生出國進修交流人數-以「系(所)」統計.csv'), PosixPath('/Users/issac/Desktop/Dagshub/HEDB/data/stage1/stage1_學6.修讀校際選課人次-以「系(所)」統計.csv'), PosixPath('/Users/issac/Desktop/Dagshub/HEDB/data/stage1/stage1_學7.修讀輔系人次-以「系(所)」統計.csv'), PosixPath('/Users/issac/Desktop/Dagshub/HEDB/data/stage1/stage1_學8.修讀雙主修人次-以「系(所)」統計.csv'), PosixPath('/Users/issac/Desktop/Dagshub/HEDB/data/stage1/stage1_學9.學校雙聯合作案件數-以「系(所)」統計.csv')]\n"
     ]
    }
   ],
   "source": [
    "filepaths_s1 = sorted(root_stage1.rglob('stage1_*.csv'))\n",
    "print(filepaths_s1)"
   ]
  },
  {
   "cell_type": "code",
   "execution_count": 87,
   "metadata": {},
   "outputs": [
    {
     "name": "stdout",
     "output_type": "stream",
     "text": [
      "[]\n",
      "[]\n",
      "[]\n",
      "[]\n"
     ]
    },
    {
     "name": "stderr",
     "output_type": "stream",
     "text": [
      "/var/folders/ty/15vk89y91j50b13mgsdgzxc80000gn/T/ipykernel_59116/1294000751.py:7: DtypeWarning: Columns (5) have mixed types. Specify dtype option on import or set low_memory=False.\n",
      "  df = pd.read_csv(fn)\n"
     ]
    },
    {
     "name": "stdout",
     "output_type": "stream",
     "text": [
      "['當學年度新生註冊率(%)D=〔(C+E)/(A-B+E)〕＊100％']\n",
      "['當學年度各學制新生註冊率(%)E=〔(C+D)/(A-B+D)〕*100％']\n",
      "[]\n",
      "[]\n",
      "[]\n",
      "[]\n",
      "[]\n",
      "[]\n",
      "['前一學年度學生就學穩定率(%)(C)(C=B/A)']\n",
      "[]\n",
      "[]\n",
      "[]\n",
      "[]\n",
      "[]\n",
      "[]\n",
      "[]\n",
      "[]\n",
      "[]\n",
      "[]\n",
      "['境外學位生數之在學比率(%)']\n",
      "['外國學生數之在學比率(%)']\n",
      "['僑生及港澳生數之在學比率(%)']\n",
      "['大陸地區來臺學位生數之在學比率(%)']\n",
      "[]\n",
      "[]\n",
      "[]\n",
      "[]\n",
      "[]\n",
      "[]\n",
      "[]\n",
      "[]\n",
      "[]\n"
     ]
    }
   ],
   "source": [
    "# Stage 2 (aggregate至校-年層級資料)\n",
    "\n",
    "root_stage2 = projRoot.joinpath('data/stage2')\n",
    "root_stage2.mkdir(exist_ok=True)\n",
    "\n",
    "for fn in filepaths_s1:\n",
    "    df = pd.read_csv(fn)\n",
    "    df[['學年度', '學校統計處代碼']] = df[['學年度', '學校統計處代碼']].astype('object')\n",
    "    # columns to aggregate (those that are int or float)\n",
    "    int_columns = df.select_dtypes(include=['int', 'float']).columns.tolist()\n",
    "    int_columns = list(filter(lambda x: x not in ['系所代碼'], int_columns))\n",
    "    # aggregate\n",
    "    df = df.groupby(['學年度', '學校統計處代碼'])[int_columns].agg(lambda x: np.nan if np.all(pd.isna(x)) else x.sum())\n",
    "    cols_to_drop = [col for col in df.columns if '%' in col]\n",
    "    df = df.drop(cols_to_drop, axis=1)\n",
    "    df.reset_index(inplace=True)\n",
    "    csv_filename = f'{root_stage2}/stage2_{fn.name[7:]}'\n",
    "    df.to_csv(csv_filename, index=False)\n",
    "    print(cols_to_drop)"
   ]
  },
  {
   "attachments": {},
   "cell_type": "markdown",
   "metadata": {},
   "source": [
    "### Stage 3 ( long form data, all merged together )"
   ]
  },
  {
   "cell_type": "code",
   "execution_count": 12,
   "metadata": {},
   "outputs": [
    {
     "name": "stdout",
     "output_type": "stream",
     "text": [
      "[PosixPath('/Users/issac/Desktop/Dagshub/HEDB/data/stage2/stage2_學1-1.正式學籍在學學生人數-以「系(所)」統計.csv'), PosixPath('/Users/issac/Desktop/Dagshub/HEDB/data/stage2/stage2_學1-2.正式學籍在學學生人數-以「校(含學制班別)」統計.csv'), PosixPath('/Users/issac/Desktop/Dagshub/HEDB/data/stage2/stage2_學10.日間學制修讀雙聯學制學生數-以「系(所)」統計.csv'), PosixPath('/Users/issac/Desktop/Dagshub/HEDB/data/stage2/stage2_學11.學校辦理國際合作與交流資料表-以「校」統計.csv'), PosixPath('/Users/issac/Desktop/Dagshub/HEDB/data/stage2/stage2_學12-1.新生(含境外生)註冊率-以「系(所)」統計.csv'), PosixPath('/Users/issac/Desktop/Dagshub/HEDB/data/stage2/stage2_學12-2.新生(含境外生)註冊率-以「校(含學制班別)」統計.csv'), PosixPath('/Users/issac/Desktop/Dagshub/HEDB/data/stage2/stage2_學12-3.新生(含境外生)註冊率-以「校」統計.csv'), PosixPath('/Users/issac/Desktop/Dagshub/HEDB/data/stage2/stage2_學13-1.於學年底處於休學狀態之人數-以「系(所)」統計.csv'), PosixPath('/Users/issac/Desktop/Dagshub/HEDB/data/stage2/stage2_學13-2.於學年底處於休學狀態之人數-以「校(含學制班別)」統計.csv'), PosixPath('/Users/issac/Desktop/Dagshub/HEDB/data/stage2/stage2_學14-1.退學人數-以「系(所)」統計.csv'), PosixPath('/Users/issac/Desktop/Dagshub/HEDB/data/stage2/stage2_學14-2.退學人數-以「校(含學制班別)」統計.csv'), PosixPath('/Users/issac/Desktop/Dagshub/HEDB/data/stage2/stage2_學15.在學學生參與競賽、論文出版等成效-以「校(含學制班別)」統計.csv'), PosixPath('/Users/issac/Desktop/Dagshub/HEDB/data/stage2/stage2_學16.學士班以下就學穩定率-以「校(含學制班別)」統計.csv'), PosixPath('/Users/issac/Desktop/Dagshub/HEDB/data/stage2/stage2_學17.獎助生及勞僱型學生兼任助理人數-以「校」統計.csv'), PosixPath('/Users/issac/Desktop/Dagshub/HEDB/data/stage2/stage2_學18.學校執行工讀及生活助學金情形-以「校」統計.csv'), PosixPath('/Users/issac/Desktop/Dagshub/HEDB/data/stage2/stage2_學19.兼任助理平均每月支給金額人數統計表-以「校」統計.csv'), PosixPath('/Users/issac/Desktop/Dagshub/HEDB/data/stage2/stage2_學2-1.畢業生數及其取得輔系、雙主修資格人數-以「系(所)」統計.csv'), PosixPath('/Users/issac/Desktop/Dagshub/HEDB/data/stage2/stage2_學2-2.畢業生數及其取得輔系、雙主修資格人數-以「校(含學制班別)」統計.csv'), PosixPath('/Users/issac/Desktop/Dagshub/HEDB/data/stage2/stage2_學2-3.畢業授予學位之中英文名稱及人數表-以「系(所)」統計.csv'), PosixPath('/Users/issac/Desktop/Dagshub/HEDB/data/stage2/stage2_學2-4.畢業碩、博士學位論文資料-以「系(所)」統計.csv'), PosixPath('/Users/issac/Desktop/Dagshub/HEDB/data/stage2/stage2_學2-5.畢業碩、博士學位論文資料-以「校(含學制班別)」統計.csv'), PosixPath('/Users/issac/Desktop/Dagshub/HEDB/data/stage2/stage2_學20.學生實習情形-以「系(所)」統計.csv'), PosixPath('/Users/issac/Desktop/Dagshub/HEDB/data/stage2/stage2_學21.學生實習機構及權益保障-以「系(所)」統計.csv'), PosixPath('/Users/issac/Desktop/Dagshub/HEDB/data/stage2/stage2_學3-1.境外學位生數及其在學比率-以「系(所)」統計.csv'), PosixPath('/Users/issac/Desktop/Dagshub/HEDB/data/stage2/stage2_學3-2.外國學生數及其在學比率-以「系(所)」統計.csv'), PosixPath('/Users/issac/Desktop/Dagshub/HEDB/data/stage2/stage2_學3-3.僑生、港澳生數及其在學比率-以「系(所)」統計.csv'), PosixPath('/Users/issac/Desktop/Dagshub/HEDB/data/stage2/stage2_學3-4.大陸地區來臺學位生數及其在學比率-以「系(所)」統計.csv'), PosixPath('/Users/issac/Desktop/Dagshub/HEDB/data/stage2/stage2_學3-5.畢業境外生數-以「系(所)」統計.csv'), PosixPath('/Users/issac/Desktop/Dagshub/HEDB/data/stage2/stage2_學3-6.畢業境外生數-以「校(含學制班別)」統計.csv'), PosixPath('/Users/issac/Desktop/Dagshub/HEDB/data/stage2/stage2_學3-7.境外學位生數(依身分類別呈現)- 以「校(含學制班別)」統計.csv'), PosixPath('/Users/issac/Desktop/Dagshub/HEDB/data/stage2/stage2_學4.日間學士班以下申請延長修業年限之延修生數-以「系(所)」統計.csv'), PosixPath('/Users/issac/Desktop/Dagshub/HEDB/data/stage2/stage2_學5.日間學制本國學生出國進修交流人數-以「系(所)」統計.csv'), PosixPath('/Users/issac/Desktop/Dagshub/HEDB/data/stage2/stage2_學6.修讀校際選課人次-以「系(所)」統計.csv'), PosixPath('/Users/issac/Desktop/Dagshub/HEDB/data/stage2/stage2_學7.修讀輔系人次-以「系(所)」統計.csv'), PosixPath('/Users/issac/Desktop/Dagshub/HEDB/data/stage2/stage2_學8.修讀雙主修人次-以「系(所)」統計.csv'), PosixPath('/Users/issac/Desktop/Dagshub/HEDB/data/stage2/stage2_學9.學校雙聯合作案件數-以「系(所)」統計.csv')]\n"
     ]
    }
   ],
   "source": [
    "filepaths_s2 = sorted(root_stage2.rglob('stage2_*.csv'))\n",
    "print(filepaths_s2)"
   ]
  },
  {
   "cell_type": "code",
   "execution_count": 88,
   "metadata": {},
   "outputs": [],
   "source": [
    "# Stage 3\n",
    "\n",
    "root_stage3 = projRoot.joinpath('data/stage3')\n",
    "root_stage3.mkdir(exist_ok=True)\n",
    "\n",
    "dfs = {}\n",
    "for fn in filepaths_s2:\n",
    "    dfs[fn.name] = pd.read_csv(fn)\n",
    "    dfs[fn.name][['學年度', '學校統計處代碼']] = dfs[fn.name][['學年度', '學校統計處代碼']].astype('string') #merge的時候，校統計處代碼要先統一長度\n",
    "    dfs[fn.name]['學校統計處代碼'] = dfs[fn.name]['學校統計處代碼'].str.zfill(4)\n",
    "    dfs[fn.name]['學年度'] = dfs[fn.name]['學年度'].str.zfill(3)\n",
    "\n",
    "# merge all \n",
    "keys = list(dfs.keys())\n",
    "merged_df = dfs[keys[0]]\n",
    "for i in range(1, len(keys)):\n",
    "    merged_df = pd.merge(merged_df, dfs[keys[i]], how='outer')\n",
    "\n",
    "\n",
    "merged_df.to_csv(f'{root_stage3}/stage3_student.csv', index=False)"
   ]
  },
  {
   "cell_type": "code",
   "execution_count": null,
   "metadata": {},
   "outputs": [],
   "source": []
  }
 ],
 "metadata": {
  "kernelspec": {
   "display_name": "Python 3",
   "language": "python",
   "name": "python3"
  },
  "language_info": {
   "codemirror_mode": {
    "name": "ipython",
    "version": 3
   },
   "file_extension": ".py",
   "mimetype": "text/x-python",
   "name": "python",
   "nbconvert_exporter": "python",
   "pygments_lexer": "ipython3",
   "version": "3.11.2"
  },
  "orig_nbformat": 4
 },
 "nbformat": 4,
 "nbformat_minor": 2
}
