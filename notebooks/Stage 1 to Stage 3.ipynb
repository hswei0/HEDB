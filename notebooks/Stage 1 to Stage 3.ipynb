{
 "cells": [
  {
   "attachments": {},
   "cell_type": "markdown",
   "metadata": {},
   "source": [
    "## 學生類各表（36張）"
   ]
  },
  {
   "cell_type": "code",
   "execution_count": 2,
   "metadata": {},
   "outputs": [],
   "source": [
    "import pandas as pd\n",
    "from pathlib import Path\n",
    "import re\n",
    "import os"
   ]
  },
  {
   "cell_type": "code",
   "execution_count": 3,
   "metadata": {},
   "outputs": [],
   "source": [
    "projRoot = Path.cwd().parents[0]\n",
    "root_rawdata = projRoot.joinpath('data/raw')"
   ]
  },
  {
   "cell_type": "code",
   "execution_count": 4,
   "metadata": {},
   "outputs": [
    {
     "name": "stdout",
     "output_type": "stream",
     "text": [
      "[PosixPath('/Users/issac/Desktop/Dagshub/HEDB/data/raw/學1-1.正式學籍在學學生人數-以「系(所)」統計.csv'), PosixPath('/Users/issac/Desktop/Dagshub/HEDB/data/raw/學1-2.正式學籍在學學生人數-以「校(含學制班別)」統計.csv'), PosixPath('/Users/issac/Desktop/Dagshub/HEDB/data/raw/學10.日間學制修讀雙聯學制學生數-以「系(所)」統計.csv'), PosixPath('/Users/issac/Desktop/Dagshub/HEDB/data/raw/學11.學校辦理國際合作與交流資料表-以「校」統計.csv'), PosixPath('/Users/issac/Desktop/Dagshub/HEDB/data/raw/學12-1.新生(含境外生)註冊率-以「系(所)」統計.csv'), PosixPath('/Users/issac/Desktop/Dagshub/HEDB/data/raw/學12-2.新生(含境外生)註冊率-以「校(含學制班別)」統計.csv'), PosixPath('/Users/issac/Desktop/Dagshub/HEDB/data/raw/學12-3.新生(含境外生)註冊率-以「校」統計.csv'), PosixPath('/Users/issac/Desktop/Dagshub/HEDB/data/raw/學13-1.於學年底處於休學狀態之人數-以「系(所)」統計.csv'), PosixPath('/Users/issac/Desktop/Dagshub/HEDB/data/raw/學13-2.於學年底處於休學狀態之人數-以「校(含學制班別)」統計.csv'), PosixPath('/Users/issac/Desktop/Dagshub/HEDB/data/raw/學14-1.退學人數-以「系(所)」統計.csv'), PosixPath('/Users/issac/Desktop/Dagshub/HEDB/data/raw/學14-2.退學人數-以「校(含學制班別)」統計.csv'), PosixPath('/Users/issac/Desktop/Dagshub/HEDB/data/raw/學15.在學學生參與競賽、論文出版等成效-以「校(含學制班別)」統計.csv'), PosixPath('/Users/issac/Desktop/Dagshub/HEDB/data/raw/學16.學士班以下就學穩定率-以「校(含學制班別)」統計.csv'), PosixPath('/Users/issac/Desktop/Dagshub/HEDB/data/raw/學17.獎助生及勞僱型學生兼任助理人數-以「校」統計.csv'), PosixPath('/Users/issac/Desktop/Dagshub/HEDB/data/raw/學18.學校執行工讀及生活助學金情形-以「校」統計.csv'), PosixPath('/Users/issac/Desktop/Dagshub/HEDB/data/raw/學19.兼任助理平均每月支給金額人數統計表-以「校」統計.csv'), PosixPath('/Users/issac/Desktop/Dagshub/HEDB/data/raw/學2-1.畢業生數及其取得輔系、雙主修資格人數-以「系(所)」統計.csv'), PosixPath('/Users/issac/Desktop/Dagshub/HEDB/data/raw/學2-2.畢業生數及其取得輔系、雙主修資格人數-以「校(含學制班別)」統計.csv'), PosixPath('/Users/issac/Desktop/Dagshub/HEDB/data/raw/學2-3.畢業授予學位之中英文名稱及人數表-以「系(所)」統計.csv'), PosixPath('/Users/issac/Desktop/Dagshub/HEDB/data/raw/學2-4.畢業碩、博士學位論文資料-以「系(所)」統計.csv'), PosixPath('/Users/issac/Desktop/Dagshub/HEDB/data/raw/學2-5.畢業碩、博士學位論文資料-以「校(含學制班別)」統計.csv'), PosixPath('/Users/issac/Desktop/Dagshub/HEDB/data/raw/學20.學生實習情形-以「系(所)」統計.csv'), PosixPath('/Users/issac/Desktop/Dagshub/HEDB/data/raw/學21.學生實習機構及權益保障-以「系(所)」統計.csv'), PosixPath('/Users/issac/Desktop/Dagshub/HEDB/data/raw/學3-1.境外學位生數及其在學比率-以「系(所)」統計.csv'), PosixPath('/Users/issac/Desktop/Dagshub/HEDB/data/raw/學3-2.外國學生數及其在學比率-以「系(所)」統計.csv'), PosixPath('/Users/issac/Desktop/Dagshub/HEDB/data/raw/學3-3.僑生、港澳生數及其在學比率-以「系(所)」統計.csv'), PosixPath('/Users/issac/Desktop/Dagshub/HEDB/data/raw/學3-4.大陸地區來臺學位生數及其在學比率-以「系(所)」統計.csv'), PosixPath('/Users/issac/Desktop/Dagshub/HEDB/data/raw/學3-5.畢業境外生數-以「系(所)」統計.csv'), PosixPath('/Users/issac/Desktop/Dagshub/HEDB/data/raw/學3-6.畢業境外生數-以「校(含學制班別)」統計.csv'), PosixPath('/Users/issac/Desktop/Dagshub/HEDB/data/raw/學3-7.境外學位生數(依身分類別呈現)- 以「校(含學制班別)」統計.csv'), PosixPath('/Users/issac/Desktop/Dagshub/HEDB/data/raw/學4.日間學士班以下申請延長修業年限之延修生數-以「系(所)」統計.csv'), PosixPath('/Users/issac/Desktop/Dagshub/HEDB/data/raw/學5.日間學制本國學生出國進修交流人數-以「系(所)」統計.csv'), PosixPath('/Users/issac/Desktop/Dagshub/HEDB/data/raw/學6.修讀校際選課人次-以「系(所)」統計.csv'), PosixPath('/Users/issac/Desktop/Dagshub/HEDB/data/raw/學7.修讀輔系人次-以「系(所)」統計.csv'), PosixPath('/Users/issac/Desktop/Dagshub/HEDB/data/raw/學8.修讀雙主修人次-以「系(所)」統計.csv'), PosixPath('/Users/issac/Desktop/Dagshub/HEDB/data/raw/學9.學校雙聯合作案件數-以「系(所)」統計.csv')]\n"
     ]
    }
   ],
   "source": [
    "filepaths = sorted(root_rawdata.rglob('學*.csv'))\n",
    "print(filepaths)"
   ]
  },
  {
   "attachments": {},
   "cell_type": "markdown",
   "metadata": {},
   "source": [
    "### Stage 1 & Stage 2 ( '...' to np.nan, object to int, & aggregate to school level )"
   ]
  },
  {
   "cell_type": "code",
   "execution_count": 5,
   "metadata": {},
   "outputs": [
    {
     "name": "stderr",
     "output_type": "stream",
     "text": [
      "/var/folders/ty/15vk89y91j50b13mgsdgzxc80000gn/T/ipykernel_52819/346681178.py:8: DtypeWarning: Columns (5) have mixed types. Specify dtype option on import or set low_memory=False.\n",
      "  csv = pd.read_csv(fn, na_values=['...'])\n"
     ]
    }
   ],
   "source": [
    "# Stage 1\n",
    "import numpy as np\n",
    "\n",
    "root_stage1 = projRoot.joinpath('data/stage1')\n",
    "root_stage1.mkdir(exist_ok=True)\n",
    "\n",
    "for fn in filepaths:\n",
    "    csv = pd.read_csv(fn, na_values=['...'])\n",
    "    int_columns = csv.select_dtypes(include=['int', 'float']).columns.tolist()\n",
    "    int_columns = list(filter(lambda x: x not in ['學年度', '學校統計處代碼'], int_columns))\n",
    "    if '學期' in list(csv.columns):\n",
    "        csv = csv.groupby(['學年度', '學校統計處代碼', '學期'])[int_columns].agg(lambda x: np.nan if np.all(pd.isna(x)) else x.sum())\n",
    "        csv.reset_index(inplace=True)\n",
    "        csv = csv.pivot(index=['學年度', '學校統計處代碼'], columns= '學期', values= int_columns)\n",
    "        csv.columns = [f\"{col[0]}_{col[1]}\" for col in csv.columns]\n",
    "        csv.reset_index(inplace=True)\n",
    "        csv = csv.drop(['學期_1', '學期_2'], axis=1)\n",
    "    elif '學年底' in f'{fn}':\n",
    "        csv = csv.rename(columns={col: col+'_2' for col in csv[int_columns]})\n",
    "\n",
    "    csv_filename = f'{root_stage1}/{fn.name}_stage1.csv'\n",
    "    csv.to_csv(csv_filename, index=False)"
   ]
  },
  {
   "cell_type": "code",
   "execution_count": 8,
   "metadata": {},
   "outputs": [
    {
     "name": "stdout",
     "output_type": "stream",
     "text": [
      "[PosixPath('/Users/issac/Desktop/Dagshub/HEDB/data/stage1/學1-1.正式學籍在學學生人數-以「系(所)」統計.csv_stage1.csv'), PosixPath('/Users/issac/Desktop/Dagshub/HEDB/data/stage1/學1-2.正式學籍在學學生人數-以「校(含學制班別)」統計.csv_stage1.csv'), PosixPath('/Users/issac/Desktop/Dagshub/HEDB/data/stage1/學10.日間學制修讀雙聯學制學生數-以「系(所)」統計.csv_stage1.csv'), PosixPath('/Users/issac/Desktop/Dagshub/HEDB/data/stage1/學11.學校辦理國際合作與交流資料表-以「校」統計.csv_stage1.csv'), PosixPath('/Users/issac/Desktop/Dagshub/HEDB/data/stage1/學12-1.新生(含境外生)註冊率-以「系(所)」統計.csv_stage1.csv'), PosixPath('/Users/issac/Desktop/Dagshub/HEDB/data/stage1/學12-2.新生(含境外生)註冊率-以「校(含學制班別)」統計.csv_stage1.csv'), PosixPath('/Users/issac/Desktop/Dagshub/HEDB/data/stage1/學12-3.新生(含境外生)註冊率-以「校」統計.csv_stage1.csv'), PosixPath('/Users/issac/Desktop/Dagshub/HEDB/data/stage1/學13-1.於學年底處於休學狀態之人數-以「系(所)」統計.csv_stage1.csv'), PosixPath('/Users/issac/Desktop/Dagshub/HEDB/data/stage1/學13-2.於學年底處於休學狀態之人數-以「校(含學制班別)」統計.csv_stage1.csv'), PosixPath('/Users/issac/Desktop/Dagshub/HEDB/data/stage1/學14-1.退學人數-以「系(所)」統計.csv_stage1.csv'), PosixPath('/Users/issac/Desktop/Dagshub/HEDB/data/stage1/學14-2.退學人數-以「校(含學制班別)」統計.csv_stage1.csv'), PosixPath('/Users/issac/Desktop/Dagshub/HEDB/data/stage1/學15.在學學生參與競賽、論文出版等成效-以「校(含學制班別)」統計.csv_stage1.csv'), PosixPath('/Users/issac/Desktop/Dagshub/HEDB/data/stage1/學16.學士班以下就學穩定率-以「校(含學制班別)」統計.csv_stage1.csv'), PosixPath('/Users/issac/Desktop/Dagshub/HEDB/data/stage1/學17.獎助生及勞僱型學生兼任助理人數-以「校」統計.csv_stage1.csv'), PosixPath('/Users/issac/Desktop/Dagshub/HEDB/data/stage1/學18.學校執行工讀及生活助學金情形-以「校」統計.csv_stage1.csv'), PosixPath('/Users/issac/Desktop/Dagshub/HEDB/data/stage1/學19.兼任助理平均每月支給金額人數統計表-以「校」統計.csv_stage1.csv'), PosixPath('/Users/issac/Desktop/Dagshub/HEDB/data/stage1/學2-1.畢業生數及其取得輔系、雙主修資格人數-以「系(所)」統計.csv_stage1.csv'), PosixPath('/Users/issac/Desktop/Dagshub/HEDB/data/stage1/學2-2.畢業生數及其取得輔系、雙主修資格人數-以「校(含學制班別)」統計.csv_stage1.csv'), PosixPath('/Users/issac/Desktop/Dagshub/HEDB/data/stage1/學2-3.畢業授予學位之中英文名稱及人數表-以「系(所)」統計.csv_stage1.csv'), PosixPath('/Users/issac/Desktop/Dagshub/HEDB/data/stage1/學2-4.畢業碩、博士學位論文資料-以「系(所)」統計.csv_stage1.csv'), PosixPath('/Users/issac/Desktop/Dagshub/HEDB/data/stage1/學2-5.畢業碩、博士學位論文資料-以「校(含學制班別)」統計.csv_stage1.csv'), PosixPath('/Users/issac/Desktop/Dagshub/HEDB/data/stage1/學20.學生實習情形-以「系(所)」統計.csv_stage1.csv'), PosixPath('/Users/issac/Desktop/Dagshub/HEDB/data/stage1/學21.學生實習機構及權益保障-以「系(所)」統計.csv_stage1.csv'), PosixPath('/Users/issac/Desktop/Dagshub/HEDB/data/stage1/學3-1.境外學位生數及其在學比率-以「系(所)」統計.csv_stage1.csv'), PosixPath('/Users/issac/Desktop/Dagshub/HEDB/data/stage1/學3-2.外國學生數及其在學比率-以「系(所)」統計.csv_stage1.csv'), PosixPath('/Users/issac/Desktop/Dagshub/HEDB/data/stage1/學3-3.僑生、港澳生數及其在學比率-以「系(所)」統計.csv_stage1.csv'), PosixPath('/Users/issac/Desktop/Dagshub/HEDB/data/stage1/學3-4.大陸地區來臺學位生數及其在學比率-以「系(所)」統計.csv_stage1.csv'), PosixPath('/Users/issac/Desktop/Dagshub/HEDB/data/stage1/學3-5.畢業境外生數-以「系(所)」統計.csv_stage1.csv'), PosixPath('/Users/issac/Desktop/Dagshub/HEDB/data/stage1/學3-6.畢業境外生數-以「校(含學制班別)」統計.csv_stage1.csv'), PosixPath('/Users/issac/Desktop/Dagshub/HEDB/data/stage1/學3-7.境外學位生數(依身分類別呈現)- 以「校(含學制班別)」統計.csv_stage1.csv'), PosixPath('/Users/issac/Desktop/Dagshub/HEDB/data/stage1/學4.日間學士班以下申請延長修業年限之延修生數-以「系(所)」統計.csv_stage1.csv'), PosixPath('/Users/issac/Desktop/Dagshub/HEDB/data/stage1/學5.日間學制本國學生出國進修交流人數-以「系(所)」統計.csv_stage1.csv'), PosixPath('/Users/issac/Desktop/Dagshub/HEDB/data/stage1/學6.修讀校際選課人次-以「系(所)」統計.csv_stage1.csv'), PosixPath('/Users/issac/Desktop/Dagshub/HEDB/data/stage1/學7.修讀輔系人次-以「系(所)」統計.csv_stage1.csv'), PosixPath('/Users/issac/Desktop/Dagshub/HEDB/data/stage1/學8.修讀雙主修人次-以「系(所)」統計.csv_stage1.csv'), PosixPath('/Users/issac/Desktop/Dagshub/HEDB/data/stage1/學9.學校雙聯合作案件數-以「系(所)」統計.csv_stage1.csv')]\n"
     ]
    }
   ],
   "source": [
    "root_stage1data = projRoot.joinpath('data/stage1')\n",
    "filepaths_1 = sorted(root_stage1data.rglob('學*_stage1.csv'))\n",
    "print(filepaths)"
   ]
  },
  {
   "cell_type": "code",
   "execution_count": 9,
   "metadata": {},
   "outputs": [
    {
     "name": "stdout",
     "output_type": "stream",
     "text": [
      "[]\n",
      "[]\n",
      "[]\n",
      "[]\n"
     ]
    },
    {
     "name": "stderr",
     "output_type": "stream",
     "text": [
      "/var/folders/ty/15vk89y91j50b13mgsdgzxc80000gn/T/ipykernel_52819/1375668822.py:7: DtypeWarning: Columns (5) have mixed types. Specify dtype option on import or set low_memory=False.\n",
      "  csv = pd.read_csv(fn)\n"
     ]
    },
    {
     "name": "stdout",
     "output_type": "stream",
     "text": [
      "['當學年度新生註冊率(%)D=〔(C+E)/(A-B+E)〕＊100％']\n",
      "['當學年度各學制新生註冊率(%)E=〔(C+D)/(A-B+D)〕*100％']\n",
      "[]\n",
      "[]\n",
      "[]\n",
      "[]\n",
      "[]\n",
      "[]\n",
      "['前一學年度學生就學穩定率(%)(C)(C=B/A)']\n",
      "[]\n",
      "[]\n",
      "[]\n",
      "[]\n",
      "[]\n",
      "[]\n",
      "[]\n",
      "[]\n",
      "[]\n",
      "[]\n",
      "['境外學位生數之在學比率(%)']\n",
      "['外國學生數之在學比率(%)']\n",
      "['僑生及港澳生數之在學比率(%)']\n",
      "['大陸地區來臺學位生數之在學比率(%)']\n",
      "[]\n",
      "[]\n",
      "[]\n",
      "[]\n",
      "[]\n",
      "[]\n",
      "[]\n",
      "[]\n",
      "[]\n"
     ]
    }
   ],
   "source": [
    "# Stage 2\n",
    "\n",
    "root_stage2 = projRoot.joinpath('data/stage2')\n",
    "root_stage2.mkdir(exist_ok=True)\n",
    "\n",
    "for fn in filepaths_1:\n",
    "    csv = pd.read_csv(fn)\n",
    "    # columns to aggregate (those that are int or float)\n",
    "    int_columns = csv.select_dtypes(include=['int', 'float']).columns.tolist()\n",
    "    int_columns = list(filter(lambda x: x not in ['學年度', '學校統計處代碼'], int_columns))\n",
    "    # aggregate\n",
    "    csv = csv.groupby(['學年度', '學校統計處代碼'])[int_columns].agg(lambda x: np.nan if np.all(pd.isna(x)) else x.sum())\n",
    "    cols_to_drop = [col for col in csv.columns if '%' in col]\n",
    "    csv = csv.drop(cols_to_drop, axis=1)\n",
    "    csv.reset_index(inplace=True)\n",
    "    csv_filename = f'{root_stage2}/{fn.name}_stage2.csv'\n",
    "    csv.to_csv(csv_filename, index=False)\n",
    "    print(cols_to_drop)"
   ]
  },
  {
   "attachments": {},
   "cell_type": "markdown",
   "metadata": {},
   "source": [
    "### Stage 3 ( long form data, all merged together )"
   ]
  },
  {
   "cell_type": "code",
   "execution_count": null,
   "metadata": {},
   "outputs": [],
   "source": []
  },
  {
   "cell_type": "code",
   "execution_count": 5,
   "metadata": {},
   "outputs": [],
   "source": [
    "# Stage 3\n",
    "dfs = {}\n",
    "for file in files:\n",
    "    filename = file.split('/')[-1]\n",
    "    dfs[filename] = pd.read_csv(file)\n",
    "    dfs[filename][['學年度', '學校統計處代碼']] = dfs[filename][['學年度', '學校統計處代碼']].astype(object)\n",
    "\n",
    "# merge all \n",
    "keys = list(dfs.keys())\n",
    "merged_df = dfs[keys[0]]\n",
    "for i in range(1, len(keys)):\n",
    "    merged_df = pd.merge(merged_df, dfs[keys[i]], how='outer')"
   ]
  }
 ],
 "metadata": {
  "kernelspec": {
   "display_name": "Python 3",
   "language": "python",
   "name": "python3"
  },
  "language_info": {
   "codemirror_mode": {
    "name": "ipython",
    "version": 3
   },
   "file_extension": ".py",
   "mimetype": "text/x-python",
   "name": "python",
   "nbconvert_exporter": "python",
   "pygments_lexer": "ipython3",
   "version": "3.11.2"
  },
  "orig_nbformat": 4
 },
 "nbformat": 4,
 "nbformat_minor": 2
}
