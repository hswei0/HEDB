{
 "cells": [
  {
   "cell_type": "code",
   "execution_count": 37,
   "metadata": {},
   "outputs": [],
   "source": [
    "import pandas as pd\n",
    "import numpy as np\n",
    "from pathlib import Path\n",
    "import re\n",
    "import os"
   ]
  },
  {
   "cell_type": "code",
   "execution_count": 38,
   "metadata": {},
   "outputs": [],
   "source": [
    "# Project Root Path\n",
    "projRoot = Path.cwd().parents[0]\n",
    "path_rawdata = projRoot.joinpath('data/raw')"
   ]
  },
  {
   "cell_type": "code",
   "execution_count": 39,
   "metadata": {},
   "outputs": [],
   "source": [
    "# Filepaths to raw data\n",
    "filepaths = sorted(path_rawdata.rglob('[教學]*.csv'))"
   ]
  },
  {
   "cell_type": "code",
   "execution_count": null,
   "metadata": {},
   "outputs": [],
   "source": [
    "'''\n",
    "# Stage1: '...' and '無' into np.na\n",
    "\n",
    "# creating stage1 folder\n",
    "path_stage1 = projRoot.joinpath('data/stage1')\n",
    "path_stage1.mkdir(exist_ok=True)\n",
    "\n",
    "for file in filepaths:\n",
    "    df = pd.read_csv(file, na_values=['...', '無'])\n",
    "    csv_filename = f'{path_stage1}/stage1_{file.name}'\n",
    "    df.to_csv(csv_filename, index=False)\n",
    "'''"
   ]
  },
  {
   "cell_type": "code",
   "execution_count": 40,
   "metadata": {},
   "outputs": [],
   "source": [
    "# Filepaths to stage 1 data\n",
    "path_stage1 = projRoot.joinpath('data/stage1')\n",
    "filepaths_s1 = sorted(path_stage1.rglob('[教學]*.csv'))"
   ]
  },
  {
   "cell_type": "code",
   "execution_count": 41,
   "metadata": {},
   "outputs": [
    {
     "name": "stdout",
     "output_type": "stream",
     "text": [
      "[]\n",
      "[]\n",
      "[]\n",
      "[]\n"
     ]
    },
    {
     "name": "stderr",
     "output_type": "stream",
     "text": [
      "/var/folders/ty/15vk89y91j50b13mgsdgzxc80000gn/T/ipykernel_13428/1947131867.py:9: DtypeWarning: Columns (5) have mixed types. Specify dtype option on import or set low_memory=False.\n",
      "  df = pd.read_csv(file)\n"
     ]
    },
    {
     "name": "stdout",
     "output_type": "stream",
     "text": [
      "['當學年度新生註冊率(%)D=〔(C+E)/(A-B+E)〕＊100％']\n",
      "['當學年度各學制新生註冊率(%)E=〔(C+D)/(A-B+D)〕*100％']\n",
      "[]\n",
      "[]\n",
      "[]\n",
      "[]\n",
      "[]\n",
      "[]\n",
      "['前一學年度學生就學穩定率(%)(C)(C=B/A)']\n",
      "[]\n",
      "[]\n",
      "[]\n",
      "[]\n",
      "[]\n",
      "[]\n",
      "[]\n",
      "[]\n",
      "[]\n",
      "[]\n",
      "['境外學位生數之在學比率(%)']\n",
      "['外國學生數之在學比率(%)']\n",
      "['僑生及港澳生數之在學比率(%)']\n",
      "['大陸地區來臺學位生數之在學比率(%)']\n",
      "[]\n",
      "[]\n",
      "[]\n",
      "[]\n",
      "[]\n",
      "[]\n",
      "[]\n",
      "[]\n",
      "[]\n",
      "[]\n",
      "[]\n",
      "[]\n",
      "教1-3.專任教師數-以「校(編制內外)」統計.csv\n",
      "[]\n",
      "教1-4.專任教師數-以「校(編制內外、年齡組別)」統計.csv\n",
      "[]\n",
      "教1-5.專任教師數-以「校(編制內外、學位別)」統計.csv\n",
      "['編制外專任教師支給數額情形-教授-平均支給數額', '編制外專任教師支給數額情形-教授-與公立學校支給數額相較之比率(%)', '編制外專任教師支給數額情形-副教授-平均支給數額', '編制外專任教師支給數額情形-副教授-與公立學校支給數額相較之比率(%)', '編制外專任教師支給數額情形-助理教授-平均支給數額', '編制外專任教師支給數額情形-助理教授-與公立學校支給數額相較之比率(%)', '編制外專任教師支給數額情形-講師-平均支給數額', '編制外專任教師支給數額情形-講師-與公立學校支給數額相較之比率(%)']\n",
      "not in use: 教10. 編制外專任教師平均支給數額與公立學校支給數額比較表-以「校」統計.csv\n",
      "[]\n",
      "not in use: 教12. 學校學術主管不符合聘任資格統計表-以「校」統計.csv\n",
      "[]\n",
      "[]\n",
      "[]\n",
      "教16.兼任教師不予再聘理由-以「校」統計.csv\n",
      "[]\n",
      "not in use: 教17.私立學校調整學術研究加給情形-以「校」統計.csv\n",
      "[]\n",
      "[]\n",
      "[]\n",
      "[]\n",
      "[]\n",
      "[]\n",
      "[]\n",
      "[]\n",
      "[]\n",
      "['專任教師平均每週授課時數-教授', '專任教師平均每週授課時數-副教授', '專任教師平均每週授課時數-助理教授', '專任教師平均每週授課時數-講師', '專任教師平均每週授課時數-其他教師']\n",
      "not in use: 教4-1.專任教師每週授課時數-以「系(所)」統計.csv\n",
      "['日間生師比(%)']\n",
      "['專任教師增減比率(%) 111學年度', '專任教師增減比率(%) 110學年度', '專任教師增減比率(%) 109學年度']\n",
      "['專任教師通過升等比率(%)(F)=(E/A)*100%']\n",
      "[]\n",
      "['編制內專任教師支給數額情形-教授-平均支給數額', '編制內專任教師支給數額情形-教授-與公立學校支給數額相較之比率(%)', '編制內專任教師支給數額情形-副教授-平均支給數額', '編制內專任教師支給數額情形-副教授-與公立學校支給數額相較之比率(%)', '編制內專任教師支給數額情形-助理教授-平均支給數額', '編制內專任教師支給數額情形-助理教授-與公立學校支給數額相較之比率(%)', '編制內專任教師支給數額情形-講師-平均支給數額', '編制內專任教師支給數額情形-講師-與公立學校支給數額相較之比率(%)']\n",
      "not in use: 教9. 私立學校編制內專任教師平均支給數額與公立學校支給數額比較表-以「校」統計.csv\n"
     ]
    }
   ],
   "source": [
    "# Stage2: Aggregate by school, year (school-year data)\n",
    "\n",
    "## creating stage2 folder\n",
    "path_stage2 = projRoot.joinpath('data/stage2')\n",
    "path_stage2.mkdir(exist_ok=True)\n",
    "\n",
    "## 2-1 long to wide on '學期' (by '學年度' and '學校統計處代碼')\n",
    "for file in filepaths_s1:\n",
    "    df = pd.read_csv(file)\n",
    "    df[['學年度', '學校統計處代碼']] = df[['學年度', '學校統計處代碼']].astype('object')\n",
    "    #平均、百分比等資訊等aggregate之後再重新計算\n",
    "    cols_to_drop = [col for col in df.columns if ('%' in col) or ('平均' in col)]\n",
    "    df = df.drop(cols_to_drop, axis=1)\n",
    "    print(cols_to_drop)\n",
    "    #目前休退學人數統計表各自「以「系(所)」」為單位的表，人數加總不一致，所以刪掉\n",
    "    if ('休學' in f'{file}') or ('退學' in f'{file}'):\n",
    "        df = df.drop(['在學學生數'], axis=1)\n",
    "    if ('學制班別' in list(df.columns)) and ('日間/進修' not in list(df.columns)):\n",
    "        df = df[df['學制班別'].isin(['學士班(日間)', '五專', '二專(日間)'])]\n",
    "    elif ('學制班別' in list(df.columns)) and ('日間/進修' in list(df.columns)):\n",
    "        df = df[df['日間/進修'].isin(['日間']) & df['學制班別'].isin(['二年制大學(二技)', '二專', '五專', '學士班(含四技)'])] \n",
    "    numeric_cols = df.select_dtypes(include=['int', 'float']).columns.tolist()\n",
    "    numeric_cols = list(filter(lambda x: x not in ['學期', '系所代碼'], numeric_cols))\n",
    "    #有分1、2學期的資料表，依學期做long 轉wide (取至小數點後第二位)\n",
    "    if ('學期' in list(df.columns)) and (numeric_cols != []):\n",
    "        df = df.groupby(['學年度', '學校統計處代碼', '學期'])[numeric_cols].agg(lambda x: np.nan if np.all(pd.isna(x)) else round(x.sum(), 2))\n",
    "        df.reset_index(inplace=True)\n",
    "        df = df.pivot(index=['學年度', '學校統計處代碼'], columns= '學期', values= numeric_cols)\n",
    "        df.columns = [f\"{col[0]}_{col[1]}\" for col in df.columns]\n",
    "        df.reset_index(inplace=True)\n",
    "    #有幾張表內有欄位名稱直接就是「總計」，不同表的總計內涵不同。\n",
    "    elif '總計' in list(df.columns):\n",
    "        print(f'{file.name}')\n",
    "        sheetname = f'{file.name}'\n",
    "        new_col_name = f\"{sheetname[4:sheetname.find('-')]}_總計\"\n",
    "        df = df.rename(columns={'總計': new_col_name})\n",
    "    #如果整張表都沒有數值變項，就先不採用（跟指標較無關，或再想辦法呈現）\n",
    "    elif numeric_cols == []:\n",
    "        filepaths_s1.remove(file)\n",
    "        print('not in use: '+ f'{file.name}')\n",
    "        continue\n",
    "    #「以學年底狀態統計」的表，視作是第2學期的數據，變項名稱加上後綴'_2'\n",
    "    elif '學年底' in f'{file}':\n",
    "        df = df.rename(columns={col: col+'_2' for col in df[numeric_cols]})\n",
    "\n",
    "    numeric_cols = df.select_dtypes(include=['int', 'float']).columns.tolist()\n",
    "    numeric_cols = list(filter(lambda x: x not in ['學期', '系所代碼'], numeric_cols))\n",
    "    # aggregate to school level\n",
    "    df = df.groupby(['學年度', '學校統計處代碼'])[numeric_cols].agg(lambda x: np.nan if np.all(pd.isna(x)) else x.sum())\n",
    "    df.reset_index(inplace=True)\n",
    "    csv_filename = f'{path_stage2}/{file.name}'\n",
    "    df.to_csv(csv_filename, index=False)"
   ]
  },
  {
   "cell_type": "code",
   "execution_count": 42,
   "metadata": {},
   "outputs": [],
   "source": [
    "# Filepaths to stage 2 data\n",
    "filepaths_s2 = sorted(path_stage2.rglob('[教學]*.csv'))"
   ]
  },
  {
   "cell_type": "code",
   "execution_count": 43,
   "metadata": {},
   "outputs": [],
   "source": [
    "# Stage3: All stage2 datasets merged\n",
    "dfs = {}\n",
    "for file in filepaths_s2:\n",
    "    dfs[file.name] = pd.read_csv(file)\n",
    "    #merge的時候，校統計處代碼要先統一長度\n",
    "    dfs[file.name][['學年度', '學校統計處代碼']] = dfs[file.name][['學年度', '學校統計處代碼']].astype('string')\n",
    "    dfs[file.name]['學校統計處代碼'] = dfs[file.name]['學校統計處代碼'].str.zfill(4)\n",
    "    dfs[file.name]['學年度'] = dfs[file.name]['學年度'].str.zfill(3)\n",
    "# merge all\n",
    "keys = list(dfs.keys())\n",
    "merged_df = dfs[keys[0]]\n",
    "for i in range(1, len(keys)):\n",
    "    merged_df = pd.merge(merged_df, dfs[keys[i]], how='outer')\n",
    "\n",
    "## creating stage3 folder\n",
    "path_stage3 = projRoot.joinpath('data/stage3')\n",
    "path_stage3.mkdir(exist_ok=True)\n",
    "\n",
    "csv_filename = f'{path_stage3}/學教_merged.csv'\n",
    "merged_df.to_csv(csv_filename, index=False)\n",
    "\n"
   ]
  }
 ],
 "metadata": {
  "kernelspec": {
   "display_name": "HEDB-i6O8spUG",
   "language": "python",
   "name": "python3"
  },
  "language_info": {
   "codemirror_mode": {
    "name": "ipython",
    "version": 3
   },
   "file_extension": ".py",
   "mimetype": "text/x-python",
   "name": "python",
   "nbconvert_exporter": "python",
   "pygments_lexer": "ipython3",
   "version": "3.11.2"
  },
  "orig_nbformat": 4
 },
 "nbformat": 4,
 "nbformat_minor": 2
}
