{
 "cells": [
  {
   "cell_type": "code",
   "execution_count": 1,
   "metadata": {},
   "outputs": [],
   "source": [
    "import pandas as pd\n",
    "import numpy as np\n",
    "from pathlib import Path\n",
    "import re\n",
    "import os"
   ]
  },
  {
   "cell_type": "code",
   "execution_count": 2,
   "metadata": {},
   "outputs": [],
   "source": [
    "# Project Root Path\n",
    "projRoot = Path.cwd().parents[0]\n",
    "path_rawdata = projRoot.joinpath('data/raw')"
   ]
  },
  {
   "cell_type": "code",
   "execution_count": 11,
   "metadata": {},
   "outputs": [],
   "source": [
    "# Filepaths to raw data\n",
    "filepaths = sorted(path_rawdata.rglob('[教學]*.csv'))"
   ]
  },
  {
   "cell_type": "code",
   "execution_count": 12,
   "metadata": {},
   "outputs": [
    {
     "name": "stderr",
     "output_type": "stream",
     "text": [
      "/var/folders/ty/15vk89y91j50b13mgsdgzxc80000gn/T/ipykernel_3818/2392185783.py:8: DtypeWarning: Columns (5) have mixed types. Specify dtype option on import or set low_memory=False.\n",
      "  df = pd.read_csv(file, na_values=['...', '無'])\n"
     ]
    }
   ],
   "source": [
    "'''\n",
    "# Stage1: '...' and '無' into np.na\n",
    "\n",
    "# creating stage1 folder\n",
    "path_stage1 = projRoot.joinpath('data/stage1')\n",
    "path_stage1.mkdir(exist_ok=True)\n",
    "\n",
    "for file in filepaths:\n",
    "    df = pd.read_csv(file, na_values=['...', '無'])\n",
    "    csv_filename = f'{path_stage1}/stage1_{file.name}'\n",
    "    df.to_csv(csv_filename, index=False)\n",
    "'''"
   ]
  },
  {
   "cell_type": "code",
   "execution_count": 3,
   "metadata": {},
   "outputs": [],
   "source": [
    "# Filepaths to stage 1 data\n",
    "path_stage1 = projRoot.joinpath('data/stage1')\n",
    "filepaths_s1 = sorted(path_stage1.rglob('[教學]*.csv'))"
   ]
  },
  {
   "cell_type": "code",
   "execution_count": 7,
   "metadata": {},
   "outputs": [
    {
     "name": "stdout",
     "output_type": "stream",
     "text": [
      "[]\n",
      "[]\n",
      "[]\n",
      "[]\n"
     ]
    },
    {
     "name": "stderr",
     "output_type": "stream",
     "text": [
      "/var/folders/ty/15vk89y91j50b13mgsdgzxc80000gn/T/ipykernel_13428/2547165806.py:9: DtypeWarning: Columns (5) have mixed types. Specify dtype option on import or set low_memory=False.\n",
      "  df = pd.read_csv(file)\n"
     ]
    },
    {
     "name": "stdout",
     "output_type": "stream",
     "text": [
      "['當學年度新生註冊率(%)D=〔(C+E)/(A-B+E)〕＊100％']\n",
      "['當學年度各學制新生註冊率(%)E=〔(C+D)/(A-B+D)〕*100％']\n",
      "[]\n",
      "[]\n",
      "[]\n",
      "[]\n",
      "[]\n",
      "[]\n",
      "['前一學年度學生就學穩定率(%)(C)(C=B/A)']\n",
      "[]\n",
      "[]\n",
      "[]\n",
      "[]\n",
      "[]\n",
      "[]\n",
      "[]\n",
      "[]\n",
      "[]\n",
      "[]\n",
      "['境外學位生數之在學比率(%)']\n",
      "['外國學生數之在學比率(%)']\n",
      "['僑生及港澳生數之在學比率(%)']\n",
      "['大陸地區來臺學位生數之在學比率(%)']\n",
      "[]\n",
      "[]\n",
      "[]\n",
      "[]\n",
      "[]\n",
      "[]\n",
      "[]\n",
      "[]\n",
      "[]\n",
      "[]\n",
      "[]\n",
      "[]\n",
      "[]\n",
      "[]\n",
      "['編制外專任教師比率(%)']\n",
      "[]\n",
      "[]\n",
      "[]\n",
      "[]\n",
      "[]\n",
      "not in use: 教18.私立學校積欠教師薪資情形-以「校」統計.csv\n",
      "[]\n",
      "[]\n",
      "[]\n",
      "[]\n",
      "[]\n",
      "[]\n",
      "[]\n",
      "[]\n",
      "['專任教師平均每週授課時數-教授', '專任教師平均每週授課時數-副教授', '專任教師平均每週授課時數-助理教授', '專任教師平均每週授課時數-講師', '專任教師平均每週授課時數-其他教師']\n",
      "not in use: 教4-2.專任教師每週授課時數-以「校」統計.csv\n",
      "['專任教師增減比率(%) 111學年度', '專任教師增減比率(%) 110學年度', '專任教師增減比率(%) 109學年度']\n",
      "['專任教師通過升等比率(%)(F)=(E/A)*100%']\n",
      "[]\n"
     ]
    }
   ],
   "source": [
    "# Stage2: Aggregate to school-year data (on school level)\n",
    "\n",
    "## creating stage2 folder\n",
    "path_stage2 = projRoot.joinpath('data/stage2')\n",
    "path_stage2.mkdir(exist_ok=True)\n",
    "\n",
    "## 2-1 long to wide on '學期' (by '學年度' and '學校統計處代碼')\n",
    "for file in filepaths_s1:\n",
    "    df = pd.read_csv(file)\n",
    "    df[['學年度', '學校統計處代碼']] = df[['學年度', '學校統計處代碼']].astype('object')\n",
    "    cols_to_drop = [col for col in df.columns if ('%' in col) or ('平均' in col)] #平均、百分比等資訊等aggregate之後再重新計算\n",
    "    df = df.drop(cols_to_drop, axis=1)\n",
    "    print(cols_to_drop)\n",
    "    if ('休學' in f'{file}') or ('退學' in f'{file}'): #目前休退學人數統計表各自「以「系(所)」」為單位的表，人數加總不一致，所以刪掉\n",
    "        df = df.drop(['在學學生數'], axis=1)\n",
    "\n",
    "    numeric_cols = df.select_dtypes(include=['int', 'float']).columns.tolist()\n",
    "    numeric_cols = list(filter(lambda x: x not in ['學期', '系所代碼'], numeric_cols))\n",
    "    if ('學期' in list(df.columns)) and (numeric_cols != []): #有分1、2學期的資料表，依學期做long 轉wide\n",
    "        df = df.groupby(['學年度', '學校統計處代碼', '學期'])[numeric_cols].agg(lambda x: np.nan if np.all(pd.isna(x)) else x.sum())\n",
    "        df.reset_index(inplace=True)\n",
    "        df = df.pivot(index=['學年度', '學校統計處代碼'], columns= '學期', values= numeric_cols)\n",
    "        df.columns = [f\"{col[0]}_{col[1]}\" for col in df.columns]\n",
    "        df.reset_index(inplace=True)\n",
    "    elif numeric_cols == []: #如果整張表都沒有數值變項，就先不採用（跟指標較無關，或再想辦法呈現）\n",
    "        filepaths_s1.remove(file)\n",
    "        print('not in use: '+ f'{file.name}')\n",
    "        continue\n",
    "    elif '學年底' in f'{file}': #「以學年底狀態統計」的表，視作是第2學期的數據，變項名稱加上後綴'_2'\n",
    "        df = df.rename(columns={col: col+'_2' for col in df[numeric_cols]})\n",
    "\n",
    "    numeric_cols = df.select_dtypes(include=['int', 'float']).columns.tolist()\n",
    "    numeric_cols = list(filter(lambda x: x not in ['學期', '系所代碼'], numeric_cols))\n",
    "    # aggregate to school level\n",
    "    df = df.groupby(['學年度', '學校統計處代碼'])[numeric_cols].agg(lambda x: np.nan if np.all(pd.isna(x)) else x.sum())\n",
    "    df.reset_index(inplace=True)\n",
    "    csv_filename = f'{path_stage2}/{file.name}'\n",
    "    df.to_csv(csv_filename, index=False)"
   ]
  },
  {
   "cell_type": "code",
   "execution_count": 10,
   "metadata": {},
   "outputs": [],
   "source": [
    "# Filepaths to stage 2 data\n",
    "filepaths_s2 = sorted(path_stage2.rglob('[教學]*.csv'))"
   ]
  },
  {
   "cell_type": "code",
   "execution_count": 13,
   "metadata": {},
   "outputs": [],
   "source": [
    "# Stage3: All stage2 datasets merged\n",
    "dfs = {}\n",
    "for file in filepaths_s2:\n",
    "    dfs[file.name] = pd.read_csv(file)\n",
    "    dfs[file.name][['學年度', '學校統計處代碼']] = dfs[file.name][['學年度', '學校統計處代碼']].astype('string') #merge的時候，校統計處代碼要先統一長度\n",
    "    dfs[file.name]['學校統計處代碼'] = dfs[file.name]['學校統計處代碼'].str.zfill(4)\n",
    "    dfs[file.name]['學年度'] = dfs[file.name]['學年度'].str.zfill(3)\n",
    "# merge all\n",
    "keys = list(dfs.keys())\n",
    "merged_df = dfs[keys[0]]\n",
    "for i in range(1, len(keys)):\n",
    "    merged_df = pd.merge(merged_df, dfs[keys[i]], how='outer')\n",
    "\n",
    "## creating stage3 folder\n",
    "path_stage3 = projRoot.joinpath('data/stage3')\n",
    "path_stage3.mkdir(exist_ok=True)\n",
    "\n",
    "csv_filename = f'{path_stage3}/學教_merged.csv'\n",
    "merged_df.to_csv(csv_filename, index=False)\n",
    "\n"
   ]
  },
  {
   "cell_type": "code",
   "execution_count": null,
   "metadata": {},
   "outputs": [],
   "source": []
  }
 ],
 "metadata": {
  "kernelspec": {
   "display_name": "HEDB-i6O8spUG",
   "language": "python",
   "name": "python3"
  },
  "language_info": {
   "codemirror_mode": {
    "name": "ipython",
    "version": 3
   },
   "file_extension": ".py",
   "mimetype": "text/x-python",
   "name": "python",
   "nbconvert_exporter": "python",
   "pygments_lexer": "ipython3",
   "version": "3.11.2"
  },
  "orig_nbformat": 4
 },
 "nbformat": 4,
 "nbformat_minor": 2
}
